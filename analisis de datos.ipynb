{
 "cells": [
  {
   "cell_type": "markdown",
   "metadata": {},
   "source": [
    "# ¡Hola Lina! 😊\n",
    "\n",
    "Mi nombre es **Alejandro Castellanos** y hoy tengo el placer de ser el revisor de tu proyecto.\n",
    "\n",
    "Voy a revisar todo tu código con detalle, buscando tanto los puntos fuertes como aquellos en los que podrías mejorar. Te dejaré comentarios a lo largo del notebook, destacando lo que has hecho bien y sugiriendo ajustes donde sea necesario. Si encuentro algún error, no te preocupes, te lo haré saber de forma clara y te daré información útil para que puedas corregirlo en la próxima iteración. Si en algún punto tienes comentarios, siéntete libre de dejarlos también.\n",
    "\n",
    "\n",
    "Encontrarás mis comentarios específicos dentro de cajas verdes, amarillas o rojas, es muy importante que no muevas, modifiques o borres mis comentarios, con el fin de tener un seguimiento adecuado de tu proceso:\n",
    "\n",
    "\n",
    "<div class=\"alert alert-block alert-success\">\n",
    "<b>Comentario del revisor</b> <a class=“tocSkip”></a>\n",
    "Si todo está perfecto.\n",
    "</div>\n",
    "\n",
    "<div class=\"alert alert-block alert-warning\">\n",
    "<b>Comentario del revisor</b> <a class=“tocSkip”></a>\n",
    "Si tu código está bien pero se puede mejorar o hay algún detalle que le hace falta.\n",
    "</div>\n",
    "\n",
    "<div class=\"alert alert-block alert-danger\">\n",
    "<b>Comentario del revisor</b> <a class=“tocSkip”></a>\n",
    "Si de pronto hace falta algo o existe algún problema con tu código o conclusiones.\n",
    "</div>\n",
    "\n",
    "Puedes responderme de esta forma:\n",
    "<div class=\"alert alert-block alert-info\">\n",
    "<b>Respuesta del estudiante</b> <a class=“tocSkip”></a>\n",
    "</div>\n",
    "\n",
    "A continuación te dejaré un comentario general con mi valoración del proyecto. **¡Mi objetivo es que sigas aprendiendo y mejorando con cada paso!**\n"
   ]
  },
  {
   "cell_type": "markdown",
   "metadata": {},
   "source": [
    "-----"
   ]
  },
  {
   "cell_type": "markdown",
   "metadata": {},
   "source": [
    "<div class=\"alert alert-block alert-warning\">\n",
    "<b>Comentario Generla del revisor (1ra Iteración)</b> <a class=“tocSkip”></a>\n",
    "\n",
    "Lina, en tu análisis se nota un buen dominio de las herramientas básicas para la exploración de datos y un enfoque claro en la organización del trabajo, destacando el uso correcto de funciones para revisar la estructura de los datos y realizar los cálculos iniciales. También aplicaste adecuadamente pruebas estadísticas, lo cual es fundamental para sustentar tus conclusiones. \n",
    "\n",
    "Sin embargo, hay algunos puntos clave por ajustar: es importante que apliques el redondeo correcto al consumo de internet, tal como lo establece el enunciado, ya que esto influye directamente en el cálculo del cobro mensual. Además, se espera que el análisis del comportamiento de consumo se realice de forma consistente en todos los tipos de datos, no solo en llamadas. Esto te permitirá hacer comparaciones más precisas entre planes y usuarios.\n",
    "\n",
    "¡No te preocupes! Cada ajuste que haces es una oportunidad para aprender y mejorar. Vas por buen camino, y estoy seguro de que en la siguiente versión harás un gran trabajo y lograrás completar el proyecto con éxito. ¡Sigue adelante! \n",
    "\n",
    "Estaré atento a tu próxima iteración 👀\n",
    "\n",
    "\n",
    "</div>"
   ]
  },
  {
   "cell_type": "markdown",
   "metadata": {},
   "source": [
    "<div class=\"alert alert-block alert-success\">\n",
    "<b>Comentario General del revisor (2da Iteración)</b> <a class=“tocSkip”></a>\n",
    "\n",
    "¡Linas excelente trabajo con los ajustes! Tu proyecto ahora cumple con todos los objetivos propuestos. Estoy seguro de que lo que aprendiste aquí te será muy útil más adelante. \n",
    "\n",
    "¡Éxito en tu próximo sprint! 🚀\n",
    "\n",
    "*Estado del Proyecto:* **Aprobado**\n",
    "\n",
    "</div>"
   ]
  },
  {
   "cell_type": "markdown",
   "metadata": {},
   "source": [
    "-----"
   ]
  },
  {
   "cell_type": "markdown",
   "metadata": {
    "id": "3rYiDeEH0q0f"
   },
   "source": [
    "# ¿Cuál es la mejor tarifa?\n",
    "\n",
    "Trabajas como analista para el operador de telecomunicaciones Megaline. La empresa ofrece a sus clientes dos tarifas de prepago, Surf y Ultimate. El departamento comercial quiere saber cuál de las tarifas genera más ingresos para poder ajustar el presupuesto de publicidad.\n",
    "\n",
    "Vas a realizar un análisis preliminar de las tarifas basado en una selección de clientes relativamente pequeña. Tendrás los datos de 500 clientes de Megaline: quiénes son los clientes, de dónde son, qué tarifa usan, así como la cantidad de llamadas que hicieron y los mensajes de texto que enviaron en 2018. Tu trabajo es analizar el comportamiento de los clientes y determinar qué tarifa de prepago genera más ingresos."
   ]
  },
  {
   "cell_type": "markdown",
   "metadata": {
    "id": "VNddPNRQ0q0w"
   },
   "source": [
    "[Te proporcionamos algunos comentarios para orientarte mientras completas este proyecto. Pero debes asegurarte de eliminar todos los comentarios entre corchetes antes de entregar tu proyecto.]\n",
    "\n",
    "[Antes de sumergirte en el análisis de datos, explica por tu propia cuenta el propósito del proyecto y las acciones que planeas realizar.]\n",
    "\n",
    "El objetivo de este proyecto es determinar cuál de las dos tarifas genera más ingresos, para ayudar al equipo comercial a tomar mejores decisiones de publicidad y presupuesto.\n",
    "\n",
    "Analizaré los datos de 500 clientes durante 2018. El análisis incluirá:\n",
    "Limpieza y preparación de los datos.\n",
    "Cálculo del uso mensual (llamadas, mensajes y datos).\n",
    "Estimación de los ingresos generados por cada cliente según su tarifa.\n",
    "Comparación entre ambas tarifas.\n",
    "Pruebas estadísticas para verificar si la diferencia en ingresos es significativa.\n",
    "\n",
    "Al final, presentaré conclusiones y recomendaciones basadas en los resultados.\n",
    "\n",
    "[Ten en cuenta que estudiar, modificar y analizar datos es un proceso iterativo. Es normal volver a los pasos anteriores y corregirlos/ampliarlos para permitir nuevos pasos.]"
   ]
  },
  {
   "cell_type": "markdown",
   "metadata": {
    "id": "MQi4IPy70q0y"
   },
   "source": [
    "## Inicialización"
   ]
  },
  {
   "cell_type": "code",
   "execution_count": 43,
   "metadata": {
    "id": "MtYIuBxu0q0z"
   },
   "outputs": [],
   "source": [
    "# Cargar todas las librerías\n",
    "import pandas as pd\n",
    "import numpy as np\n",
    "\n",
    "# Visualización\n",
    "import matplotlib.pyplot as plt\n",
    "import seaborn as sns\n",
    "\n",
    "# Pruebas estadísticas\n",
    "from scipy import stats"
   ]
  },
  {
   "cell_type": "markdown",
   "metadata": {
    "id": "4ysWWC5i0q00"
   },
   "source": [
    "## Cargar datos"
   ]
  },
  {
   "cell_type": "code",
   "execution_count": 44,
   "metadata": {
    "id": "CCqPW7rS0q01"
   },
   "outputs": [
    {
     "name": "stdout",
     "output_type": "stream",
     "text": [
      "Calls:\n"
     ]
    },
    {
     "data": {
      "text/html": [
       "<div>\n",
       "<style scoped>\n",
       "    .dataframe tbody tr th:only-of-type {\n",
       "        vertical-align: middle;\n",
       "    }\n",
       "\n",
       "    .dataframe tbody tr th {\n",
       "        vertical-align: top;\n",
       "    }\n",
       "\n",
       "    .dataframe thead th {\n",
       "        text-align: right;\n",
       "    }\n",
       "</style>\n",
       "<table border=\"1\" class=\"dataframe\">\n",
       "  <thead>\n",
       "    <tr style=\"text-align: right;\">\n",
       "      <th></th>\n",
       "      <th>id</th>\n",
       "      <th>user_id</th>\n",
       "      <th>call_date</th>\n",
       "      <th>duration</th>\n",
       "    </tr>\n",
       "  </thead>\n",
       "  <tbody>\n",
       "    <tr>\n",
       "      <th>0</th>\n",
       "      <td>1000_93</td>\n",
       "      <td>1000</td>\n",
       "      <td>2018-12-27</td>\n",
       "      <td>8.52</td>\n",
       "    </tr>\n",
       "    <tr>\n",
       "      <th>1</th>\n",
       "      <td>1000_145</td>\n",
       "      <td>1000</td>\n",
       "      <td>2018-12-27</td>\n",
       "      <td>13.66</td>\n",
       "    </tr>\n",
       "    <tr>\n",
       "      <th>2</th>\n",
       "      <td>1000_247</td>\n",
       "      <td>1000</td>\n",
       "      <td>2018-12-27</td>\n",
       "      <td>14.48</td>\n",
       "    </tr>\n",
       "    <tr>\n",
       "      <th>3</th>\n",
       "      <td>1000_309</td>\n",
       "      <td>1000</td>\n",
       "      <td>2018-12-28</td>\n",
       "      <td>5.76</td>\n",
       "    </tr>\n",
       "    <tr>\n",
       "      <th>4</th>\n",
       "      <td>1000_380</td>\n",
       "      <td>1000</td>\n",
       "      <td>2018-12-30</td>\n",
       "      <td>4.22</td>\n",
       "    </tr>\n",
       "  </tbody>\n",
       "</table>\n",
       "</div>"
      ],
      "text/plain": [
       "         id  user_id   call_date  duration\n",
       "0   1000_93     1000  2018-12-27      8.52\n",
       "1  1000_145     1000  2018-12-27     13.66\n",
       "2  1000_247     1000  2018-12-27     14.48\n",
       "3  1000_309     1000  2018-12-28      5.76\n",
       "4  1000_380     1000  2018-12-30      4.22"
      ]
     },
     "metadata": {},
     "output_type": "display_data"
    },
    {
     "name": "stdout",
     "output_type": "stream",
     "text": [
      "Internet:\n"
     ]
    },
    {
     "data": {
      "text/html": [
       "<div>\n",
       "<style scoped>\n",
       "    .dataframe tbody tr th:only-of-type {\n",
       "        vertical-align: middle;\n",
       "    }\n",
       "\n",
       "    .dataframe tbody tr th {\n",
       "        vertical-align: top;\n",
       "    }\n",
       "\n",
       "    .dataframe thead th {\n",
       "        text-align: right;\n",
       "    }\n",
       "</style>\n",
       "<table border=\"1\" class=\"dataframe\">\n",
       "  <thead>\n",
       "    <tr style=\"text-align: right;\">\n",
       "      <th></th>\n",
       "      <th>id</th>\n",
       "      <th>user_id</th>\n",
       "      <th>session_date</th>\n",
       "      <th>mb_used</th>\n",
       "    </tr>\n",
       "  </thead>\n",
       "  <tbody>\n",
       "    <tr>\n",
       "      <th>0</th>\n",
       "      <td>1000_13</td>\n",
       "      <td>1000</td>\n",
       "      <td>2018-12-29</td>\n",
       "      <td>89.86</td>\n",
       "    </tr>\n",
       "    <tr>\n",
       "      <th>1</th>\n",
       "      <td>1000_204</td>\n",
       "      <td>1000</td>\n",
       "      <td>2018-12-31</td>\n",
       "      <td>0.00</td>\n",
       "    </tr>\n",
       "    <tr>\n",
       "      <th>2</th>\n",
       "      <td>1000_379</td>\n",
       "      <td>1000</td>\n",
       "      <td>2018-12-28</td>\n",
       "      <td>660.40</td>\n",
       "    </tr>\n",
       "    <tr>\n",
       "      <th>3</th>\n",
       "      <td>1000_413</td>\n",
       "      <td>1000</td>\n",
       "      <td>2018-12-26</td>\n",
       "      <td>270.99</td>\n",
       "    </tr>\n",
       "    <tr>\n",
       "      <th>4</th>\n",
       "      <td>1000_442</td>\n",
       "      <td>1000</td>\n",
       "      <td>2018-12-27</td>\n",
       "      <td>880.22</td>\n",
       "    </tr>\n",
       "  </tbody>\n",
       "</table>\n",
       "</div>"
      ],
      "text/plain": [
       "         id  user_id session_date  mb_used\n",
       "0   1000_13     1000   2018-12-29    89.86\n",
       "1  1000_204     1000   2018-12-31     0.00\n",
       "2  1000_379     1000   2018-12-28   660.40\n",
       "3  1000_413     1000   2018-12-26   270.99\n",
       "4  1000_442     1000   2018-12-27   880.22"
      ]
     },
     "metadata": {},
     "output_type": "display_data"
    },
    {
     "name": "stdout",
     "output_type": "stream",
     "text": [
      "Messages:\n"
     ]
    },
    {
     "data": {
      "text/html": [
       "<div>\n",
       "<style scoped>\n",
       "    .dataframe tbody tr th:only-of-type {\n",
       "        vertical-align: middle;\n",
       "    }\n",
       "\n",
       "    .dataframe tbody tr th {\n",
       "        vertical-align: top;\n",
       "    }\n",
       "\n",
       "    .dataframe thead th {\n",
       "        text-align: right;\n",
       "    }\n",
       "</style>\n",
       "<table border=\"1\" class=\"dataframe\">\n",
       "  <thead>\n",
       "    <tr style=\"text-align: right;\">\n",
       "      <th></th>\n",
       "      <th>id</th>\n",
       "      <th>user_id</th>\n",
       "      <th>message_date</th>\n",
       "    </tr>\n",
       "  </thead>\n",
       "  <tbody>\n",
       "    <tr>\n",
       "      <th>0</th>\n",
       "      <td>1000_125</td>\n",
       "      <td>1000</td>\n",
       "      <td>2018-12-27</td>\n",
       "    </tr>\n",
       "    <tr>\n",
       "      <th>1</th>\n",
       "      <td>1000_160</td>\n",
       "      <td>1000</td>\n",
       "      <td>2018-12-31</td>\n",
       "    </tr>\n",
       "    <tr>\n",
       "      <th>2</th>\n",
       "      <td>1000_223</td>\n",
       "      <td>1000</td>\n",
       "      <td>2018-12-31</td>\n",
       "    </tr>\n",
       "    <tr>\n",
       "      <th>3</th>\n",
       "      <td>1000_251</td>\n",
       "      <td>1000</td>\n",
       "      <td>2018-12-27</td>\n",
       "    </tr>\n",
       "    <tr>\n",
       "      <th>4</th>\n",
       "      <td>1000_255</td>\n",
       "      <td>1000</td>\n",
       "      <td>2018-12-26</td>\n",
       "    </tr>\n",
       "  </tbody>\n",
       "</table>\n",
       "</div>"
      ],
      "text/plain": [
       "         id  user_id message_date\n",
       "0  1000_125     1000   2018-12-27\n",
       "1  1000_160     1000   2018-12-31\n",
       "2  1000_223     1000   2018-12-31\n",
       "3  1000_251     1000   2018-12-27\n",
       "4  1000_255     1000   2018-12-26"
      ]
     },
     "metadata": {},
     "output_type": "display_data"
    },
    {
     "name": "stdout",
     "output_type": "stream",
     "text": [
      "Tariffs:\n"
     ]
    },
    {
     "data": {
      "text/html": [
       "<div>\n",
       "<style scoped>\n",
       "    .dataframe tbody tr th:only-of-type {\n",
       "        vertical-align: middle;\n",
       "    }\n",
       "\n",
       "    .dataframe tbody tr th {\n",
       "        vertical-align: top;\n",
       "    }\n",
       "\n",
       "    .dataframe thead th {\n",
       "        text-align: right;\n",
       "    }\n",
       "</style>\n",
       "<table border=\"1\" class=\"dataframe\">\n",
       "  <thead>\n",
       "    <tr style=\"text-align: right;\">\n",
       "      <th></th>\n",
       "      <th>messages_included</th>\n",
       "      <th>mb_per_month_included</th>\n",
       "      <th>minutes_included</th>\n",
       "      <th>usd_monthly_pay</th>\n",
       "      <th>usd_per_gb</th>\n",
       "      <th>usd_per_message</th>\n",
       "      <th>usd_per_minute</th>\n",
       "      <th>plan_name</th>\n",
       "    </tr>\n",
       "  </thead>\n",
       "  <tbody>\n",
       "    <tr>\n",
       "      <th>0</th>\n",
       "      <td>50</td>\n",
       "      <td>15360</td>\n",
       "      <td>500</td>\n",
       "      <td>20</td>\n",
       "      <td>10</td>\n",
       "      <td>0.03</td>\n",
       "      <td>0.03</td>\n",
       "      <td>surf</td>\n",
       "    </tr>\n",
       "    <tr>\n",
       "      <th>1</th>\n",
       "      <td>1000</td>\n",
       "      <td>30720</td>\n",
       "      <td>3000</td>\n",
       "      <td>70</td>\n",
       "      <td>7</td>\n",
       "      <td>0.01</td>\n",
       "      <td>0.01</td>\n",
       "      <td>ultimate</td>\n",
       "    </tr>\n",
       "  </tbody>\n",
       "</table>\n",
       "</div>"
      ],
      "text/plain": [
       "   messages_included  mb_per_month_included  minutes_included  \\\n",
       "0                 50                  15360               500   \n",
       "1               1000                  30720              3000   \n",
       "\n",
       "   usd_monthly_pay  usd_per_gb  usd_per_message  usd_per_minute plan_name  \n",
       "0               20          10             0.03            0.03      surf  \n",
       "1               70           7             0.01            0.01  ultimate  "
      ]
     },
     "metadata": {},
     "output_type": "display_data"
    },
    {
     "name": "stdout",
     "output_type": "stream",
     "text": [
      "Users:\n"
     ]
    },
    {
     "data": {
      "text/html": [
       "<div>\n",
       "<style scoped>\n",
       "    .dataframe tbody tr th:only-of-type {\n",
       "        vertical-align: middle;\n",
       "    }\n",
       "\n",
       "    .dataframe tbody tr th {\n",
       "        vertical-align: top;\n",
       "    }\n",
       "\n",
       "    .dataframe thead th {\n",
       "        text-align: right;\n",
       "    }\n",
       "</style>\n",
       "<table border=\"1\" class=\"dataframe\">\n",
       "  <thead>\n",
       "    <tr style=\"text-align: right;\">\n",
       "      <th></th>\n",
       "      <th>user_id</th>\n",
       "      <th>first_name</th>\n",
       "      <th>last_name</th>\n",
       "      <th>age</th>\n",
       "      <th>city</th>\n",
       "      <th>reg_date</th>\n",
       "      <th>plan</th>\n",
       "      <th>churn_date</th>\n",
       "    </tr>\n",
       "  </thead>\n",
       "  <tbody>\n",
       "    <tr>\n",
       "      <th>0</th>\n",
       "      <td>1000</td>\n",
       "      <td>Anamaria</td>\n",
       "      <td>Bauer</td>\n",
       "      <td>45</td>\n",
       "      <td>Atlanta-Sandy Springs-Roswell, GA MSA</td>\n",
       "      <td>2018-12-24</td>\n",
       "      <td>ultimate</td>\n",
       "      <td>NaN</td>\n",
       "    </tr>\n",
       "    <tr>\n",
       "      <th>1</th>\n",
       "      <td>1001</td>\n",
       "      <td>Mickey</td>\n",
       "      <td>Wilkerson</td>\n",
       "      <td>28</td>\n",
       "      <td>Seattle-Tacoma-Bellevue, WA MSA</td>\n",
       "      <td>2018-08-13</td>\n",
       "      <td>surf</td>\n",
       "      <td>NaN</td>\n",
       "    </tr>\n",
       "    <tr>\n",
       "      <th>2</th>\n",
       "      <td>1002</td>\n",
       "      <td>Carlee</td>\n",
       "      <td>Hoffman</td>\n",
       "      <td>36</td>\n",
       "      <td>Las Vegas-Henderson-Paradise, NV MSA</td>\n",
       "      <td>2018-10-21</td>\n",
       "      <td>surf</td>\n",
       "      <td>NaN</td>\n",
       "    </tr>\n",
       "    <tr>\n",
       "      <th>3</th>\n",
       "      <td>1003</td>\n",
       "      <td>Reynaldo</td>\n",
       "      <td>Jenkins</td>\n",
       "      <td>52</td>\n",
       "      <td>Tulsa, OK MSA</td>\n",
       "      <td>2018-01-28</td>\n",
       "      <td>surf</td>\n",
       "      <td>NaN</td>\n",
       "    </tr>\n",
       "    <tr>\n",
       "      <th>4</th>\n",
       "      <td>1004</td>\n",
       "      <td>Leonila</td>\n",
       "      <td>Thompson</td>\n",
       "      <td>40</td>\n",
       "      <td>Seattle-Tacoma-Bellevue, WA MSA</td>\n",
       "      <td>2018-05-23</td>\n",
       "      <td>surf</td>\n",
       "      <td>NaN</td>\n",
       "    </tr>\n",
       "  </tbody>\n",
       "</table>\n",
       "</div>"
      ],
      "text/plain": [
       "   user_id first_name  last_name  age                                   city  \\\n",
       "0     1000   Anamaria      Bauer   45  Atlanta-Sandy Springs-Roswell, GA MSA   \n",
       "1     1001     Mickey  Wilkerson   28        Seattle-Tacoma-Bellevue, WA MSA   \n",
       "2     1002     Carlee    Hoffman   36   Las Vegas-Henderson-Paradise, NV MSA   \n",
       "3     1003   Reynaldo    Jenkins   52                          Tulsa, OK MSA   \n",
       "4     1004    Leonila   Thompson   40        Seattle-Tacoma-Bellevue, WA MSA   \n",
       "\n",
       "     reg_date      plan churn_date  \n",
       "0  2018-12-24  ultimate        NaN  \n",
       "1  2018-08-13      surf        NaN  \n",
       "2  2018-10-21      surf        NaN  \n",
       "3  2018-01-28      surf        NaN  \n",
       "4  2018-05-23      surf        NaN  "
      ]
     },
     "metadata": {},
     "output_type": "display_data"
    },
    {
     "name": "stdout",
     "output_type": "stream",
     "text": [
      "<class 'pandas.core.frame.DataFrame'>\n",
      "RangeIndex: 500 entries, 0 to 499\n",
      "Data columns (total 8 columns):\n",
      " #   Column      Non-Null Count  Dtype \n",
      "---  ------      --------------  ----- \n",
      " 0   user_id     500 non-null    int64 \n",
      " 1   first_name  500 non-null    object\n",
      " 2   last_name   500 non-null    object\n",
      " 3   age         500 non-null    int64 \n",
      " 4   city        500 non-null    object\n",
      " 5   reg_date    500 non-null    object\n",
      " 6   plan        500 non-null    object\n",
      " 7   churn_date  34 non-null     object\n",
      "dtypes: int64(2), object(6)\n",
      "memory usage: 31.4+ KB\n",
      "None\n",
      "0\n",
      "<class 'pandas.core.frame.DataFrame'>\n",
      "Int64Index: 137735 entries, 0 to 137734\n",
      "Data columns (total 4 columns):\n",
      " #   Column     Non-Null Count   Dtype         \n",
      "---  ------     --------------   -----         \n",
      " 0   id         137735 non-null  object        \n",
      " 1   user_id    137735 non-null  int64         \n",
      " 2   call_date  137735 non-null  datetime64[ns]\n",
      " 3   duration   137735 non-null  float64       \n",
      "dtypes: datetime64[ns](1), float64(1), int64(1), object(1)\n",
      "memory usage: 5.3+ MB\n",
      "None\n",
      "<class 'pandas.core.frame.DataFrame'>\n",
      "Int64Index: 76051 entries, 0 to 76050\n",
      "Data columns (total 3 columns):\n",
      " #   Column        Non-Null Count  Dtype         \n",
      "---  ------        --------------  -----         \n",
      " 0   id            76051 non-null  object        \n",
      " 1   user_id       76051 non-null  int64         \n",
      " 2   message_date  76051 non-null  datetime64[ns]\n",
      "dtypes: datetime64[ns](1), int64(1), object(1)\n",
      "memory usage: 2.3+ MB\n",
      "None\n",
      "<class 'pandas.core.frame.DataFrame'>\n",
      "Int64Index: 104825 entries, 0 to 104824\n",
      "Data columns (total 4 columns):\n",
      " #   Column        Non-Null Count   Dtype         \n",
      "---  ------        --------------   -----         \n",
      " 0   id            104825 non-null  object        \n",
      " 1   user_id       104825 non-null  int64         \n",
      " 2   session_date  104825 non-null  datetime64[ns]\n",
      " 3   mb_used       104825 non-null  float64       \n",
      "dtypes: datetime64[ns](1), float64(1), int64(1), object(1)\n",
      "memory usage: 4.0+ MB\n",
      "None\n",
      "<class 'pandas.core.frame.DataFrame'>\n",
      "RangeIndex: 2 entries, 0 to 1\n",
      "Data columns (total 8 columns):\n",
      " #   Column                 Non-Null Count  Dtype  \n",
      "---  ------                 --------------  -----  \n",
      " 0   messages_included      2 non-null      int64  \n",
      " 1   mb_per_month_included  2 non-null      int64  \n",
      " 2   minutes_included       2 non-null      int64  \n",
      " 3   usd_monthly_pay        2 non-null      int64  \n",
      " 4   usd_per_gb             2 non-null      int64  \n",
      " 5   usd_per_message        2 non-null      float64\n",
      " 6   usd_per_minute         2 non-null      float64\n",
      " 7   plan_name              2 non-null      object \n",
      "dtypes: float64(2), int64(5), object(1)\n",
      "memory usage: 256.0+ bytes\n",
      "None\n"
     ]
    }
   ],
   "source": [
    "# Carga los archivos de datos en diferentes DataFrames\n",
    "calls = pd.read_csv('/datasets/megaline_calls.csv')\n",
    "internet = pd.read_csv('/datasets/megaline_internet.csv')\n",
    "messages = pd.read_csv('/datasets/megaline_messages.csv')\n",
    "tariffs = pd.read_csv('/datasets/megaline_plans.csv')\n",
    "users = pd.read_csv('/datasets/megaline_users.csv')\n",
    "\n",
    "print(\"Calls:\")\n",
    "display(calls.head())\n",
    "\n",
    "print(\"Internet:\")\n",
    "display(internet.head())\n",
    "\n",
    "print(\"Messages:\")\n",
    "display(messages.head())\n",
    "\n",
    "print(\"Tariffs:\")\n",
    "display(tariffs.head())\n",
    "\n",
    "print(\"Users:\")\n",
    "display(users.head())\n",
    "\n",
    "# users\n",
    "print(users.info())\n",
    "print(users.duplicated().sum()) # Duplicados\n",
    "# No se requieren cambios si no hay nulos ni duplicados\n",
    "\n",
    "# calls\n",
    "calls['call_date'] = pd.to_datetime(calls['call_date']) # Convertir fecha\n",
    "calls['duration'] = np.ceil(calls['duration']) # Redondear duración hacia arriba\n",
    "calls = calls.drop_duplicates() # Eliminar duplicados\n",
    "print(calls.info())\n",
    "\n",
    "# messages\n",
    "messages['message_date'] = pd.to_datetime(messages['message_date']) # Convertir fecha\n",
    "messages = messages.drop_duplicates()\n",
    "print(messages.info())\n",
    "\n",
    "# internet\n",
    "internet['session_date'] = pd.to_datetime(internet['session_date']) # Convertir fecha\n",
    "internet = internet.drop_duplicates()\n",
    "print(internet.info())\n",
    "\n",
    "# tariffs\n",
    "print(tariffs.info()) # No necesita limpieza"
   ]
  },
  {
   "cell_type": "markdown",
   "metadata": {
    "id": "69qqoJ3r0q01"
   },
   "source": [
    "## Preparar los datos"
   ]
  },
  {
   "cell_type": "markdown",
   "metadata": {
    "id": "vUuZw80S0q01"
   },
   "source": [
    "[Los datos para este proyecto se dividen en varias tablas. Explora cada una para tener una comprensión inicial de los datos. Si es necesario, haz las correcciones requeridas en cada tabla.]\n",
    "\n",
    "Los datos del proyecto están divididos en cinco tablas: users, calls, messages, internet y tariffs. A continuación, se exploran y limpian según lo necesario:\n",
    "\n",
    "users: Contiene información de 500 clientes, como ciudad, tarifa y fecha de inicio del contrato. No se encontraron valores nulos ni duplicados.\n",
    "\n",
    "calls: Registra las llamadas realizadas por los clientes. Se eliminaron filas duplicadas. Las fechas se convirtieron al tipo datetime. Algunas duraciones de llamada son 0, lo cual es esperable para llamadas perdidas o sin respuesta.\n",
    "\n",
    "messages: Contiene datos sobre los mensajes de texto enviados. También se eliminaron duplicados y se convirtieron las fechas. Algunos usuarios no enviaron mensajes.\n",
    "\n",
    "internet: Registra el uso diario de internet en MB. Se eliminaron duplicados y se convirtió la fecha. Hay días con uso 0 MB, lo cual es normal.\n",
    "\n",
    "tariffs: Contiene la descripción de las tarifas Surf y Ultimate. No necesita limpieza."
   ]
  },
  {
   "cell_type": "markdown",
   "metadata": {
    "id": "ohBhimvH0q01"
   },
   "source": [
    "## Tarifas"
   ]
  },
  {
   "cell_type": "code",
   "execution_count": 45,
   "metadata": {
    "id": "GptqP3Q40q02"
   },
   "outputs": [
    {
     "name": "stdout",
     "output_type": "stream",
     "text": [
      "<class 'pandas.core.frame.DataFrame'>\n",
      "RangeIndex: 2 entries, 0 to 1\n",
      "Data columns (total 8 columns):\n",
      " #   Column                 Non-Null Count  Dtype  \n",
      "---  ------                 --------------  -----  \n",
      " 0   messages_included      2 non-null      int64  \n",
      " 1   mb_per_month_included  2 non-null      int64  \n",
      " 2   minutes_included       2 non-null      int64  \n",
      " 3   usd_monthly_pay        2 non-null      int64  \n",
      " 4   usd_per_gb             2 non-null      int64  \n",
      " 5   usd_per_message        2 non-null      float64\n",
      " 6   usd_per_minute         2 non-null      float64\n",
      " 7   plan_name              2 non-null      object \n",
      "dtypes: float64(2), int64(5), object(1)\n",
      "memory usage: 256.0+ bytes\n",
      "None\n",
      "   messages_included  mb_per_month_included  minutes_included  \\\n",
      "0                 50                  15360               500   \n",
      "1               1000                  30720              3000   \n",
      "\n",
      "   usd_monthly_pay  usd_per_gb  usd_per_message  usd_per_minute plan_name  \n",
      "0               20          10             0.03            0.03      surf  \n",
      "1               70           7             0.01            0.01  ultimate  \n"
     ]
    }
   ],
   "source": [
    "# Imprime la información general/resumida sobre el DataFrame de las tarifas\n",
    "print(tariffs.info())\n",
    "print(tariffs.head())"
   ]
  },
  {
   "cell_type": "code",
   "execution_count": 46,
   "metadata": {
    "id": "64xzjwL70q02"
   },
   "outputs": [
    {
     "name": "stdout",
     "output_type": "stream",
     "text": [
      "   messages_included  mb_per_month_included  minutes_included  \\\n",
      "1               1000                  30720              3000   \n",
      "\n",
      "   usd_monthly_pay  usd_per_gb  usd_per_message  usd_per_minute plan_name  \n",
      "1               70           7             0.01            0.01  ultimate  \n"
     ]
    }
   ],
   "source": [
    "# Imprime una muestra de los datos para las tarifas\n",
    "print(tariffs.sample())"
   ]
  },
  {
   "cell_type": "markdown",
   "metadata": {
    "id": "mEc_3_hs0q02"
   },
   "source": [
    "[Describe lo que ves y observas en la información general y en la muestra de datos impresa para el precio de datos anterior. ¿Hay algún problema (tipos de datos no adecuados, datos ausentes, etc.) que pudieran necesitar investigación y cambios adicionales? ¿Cómo se puede arreglar?]\n",
    "\n",
    "No se presentan errores evidentes ni datos nulos.\n",
    "\n",
    "Las unidades están en orden: los valores por mensaje y minuto están en dólares (usd_per_*), y el tráfico mensual está en megabytes.\n",
    "\n",
    "El campo plan_name parece estar limpio, sin mayúsculas inconsistentes ni espacios innecesarios, aunque sería buena práctica normalizarlo (por ejemplo, usando .str.lower().str.strip()).\n",
    "\n",
    "Aunque los datos están completos, para prevenir errores futuros al combinar o agrupar por nombre de plan, es recomendable normalizar la columna plan_name:"
   ]
  },
  {
   "cell_type": "markdown",
   "metadata": {
    "collapsed": false,
    "id": "R3C05i1l0q03",
    "jupyter": {
     "outputs_hidden": false
    }
   },
   "source": [
    "## Corregir datos"
   ]
  },
  {
   "cell_type": "markdown",
   "metadata": {
    "id": "bIi8StZI0q03"
   },
   "source": [
    "[Corrige los problemas obvios con los datos basándote en las observaciones iniciales.]"
   ]
  },
  {
   "cell_type": "code",
   "execution_count": 47,
   "metadata": {},
   "outputs": [
    {
     "data": {
      "text/html": [
       "<div>\n",
       "<style scoped>\n",
       "    .dataframe tbody tr th:only-of-type {\n",
       "        vertical-align: middle;\n",
       "    }\n",
       "\n",
       "    .dataframe tbody tr th {\n",
       "        vertical-align: top;\n",
       "    }\n",
       "\n",
       "    .dataframe thead th {\n",
       "        text-align: right;\n",
       "    }\n",
       "</style>\n",
       "<table border=\"1\" class=\"dataframe\">\n",
       "  <thead>\n",
       "    <tr style=\"text-align: right;\">\n",
       "      <th></th>\n",
       "      <th>messages_included</th>\n",
       "      <th>mb_per_month_included</th>\n",
       "      <th>minutes_included</th>\n",
       "      <th>usd_monthly_pay</th>\n",
       "      <th>usd_per_gb</th>\n",
       "      <th>usd_per_message</th>\n",
       "      <th>usd_per_minute</th>\n",
       "      <th>plan_name</th>\n",
       "    </tr>\n",
       "  </thead>\n",
       "  <tbody>\n",
       "    <tr>\n",
       "      <th>0</th>\n",
       "      <td>50</td>\n",
       "      <td>15360</td>\n",
       "      <td>500</td>\n",
       "      <td>20</td>\n",
       "      <td>10</td>\n",
       "      <td>0.03</td>\n",
       "      <td>0.03</td>\n",
       "      <td>surf</td>\n",
       "    </tr>\n",
       "    <tr>\n",
       "      <th>1</th>\n",
       "      <td>1000</td>\n",
       "      <td>30720</td>\n",
       "      <td>3000</td>\n",
       "      <td>70</td>\n",
       "      <td>7</td>\n",
       "      <td>0.01</td>\n",
       "      <td>0.01</td>\n",
       "      <td>ultimate</td>\n",
       "    </tr>\n",
       "  </tbody>\n",
       "</table>\n",
       "</div>"
      ],
      "text/plain": [
       "   messages_included  mb_per_month_included  minutes_included  \\\n",
       "0                 50                  15360               500   \n",
       "1               1000                  30720              3000   \n",
       "\n",
       "   usd_monthly_pay  usd_per_gb  usd_per_message  usd_per_minute plan_name  \n",
       "0               20          10             0.03            0.03      surf  \n",
       "1               70           7             0.01            0.01  ultimate  "
      ]
     },
     "execution_count": 47,
     "metadata": {},
     "output_type": "execute_result"
    }
   ],
   "source": [
    "tariffs"
   ]
  },
  {
   "cell_type": "code",
   "execution_count": 48,
   "metadata": {
    "id": "Y7SVmjGn0q03"
   },
   "outputs": [],
   "source": [
    "tariffs['plan_name'] = tariffs['plan_name'].str.lower().str.strip()"
   ]
  },
  {
   "cell_type": "markdown",
   "metadata": {
    "id": "LJir7bml0q03"
   },
   "source": [
    "## Enriquecer los datos"
   ]
  },
  {
   "cell_type": "markdown",
   "metadata": {
    "id": "eqADpCfg0q04"
   },
   "source": [
    "[Agrega factores adicionales a los datos si crees que pudieran ser útiles.]"
   ]
  },
  {
   "cell_type": "code",
   "execution_count": 49,
   "metadata": {
    "id": "gfcIEuXV0q04"
   },
   "outputs": [],
   "source": [
    "#Convertir megabytes incluidos a gigabytes\n",
    "tariffs['gb_included'] = tariffs['mb_per_month_included'] / 1024"
   ]
  },
  {
   "cell_type": "markdown",
   "metadata": {
    "id": "1n2X6WXf0q04"
   },
   "source": [
    "## Usuarios/as"
   ]
  },
  {
   "cell_type": "code",
   "execution_count": 50,
   "metadata": {
    "id": "2NgjWFqx0q05"
   },
   "outputs": [
    {
     "name": "stdout",
     "output_type": "stream",
     "text": [
      "<class 'pandas.core.frame.DataFrame'>\n",
      "RangeIndex: 500 entries, 0 to 499\n",
      "Data columns (total 8 columns):\n",
      " #   Column      Non-Null Count  Dtype \n",
      "---  ------      --------------  ----- \n",
      " 0   user_id     500 non-null    int64 \n",
      " 1   first_name  500 non-null    object\n",
      " 2   last_name   500 non-null    object\n",
      " 3   age         500 non-null    int64 \n",
      " 4   city        500 non-null    object\n",
      " 5   reg_date    500 non-null    object\n",
      " 6   plan        500 non-null    object\n",
      " 7   churn_date  34 non-null     object\n",
      "dtypes: int64(2), object(6)\n",
      "memory usage: 31.4+ KB\n",
      "None\n"
     ]
    }
   ],
   "source": [
    "# Imprime la información general/resumida sobre el DataFrame de usuarios\n",
    "print(users.info())"
   ]
  },
  {
   "cell_type": "code",
   "execution_count": 51,
   "metadata": {
    "id": "1IN1L9uh0q05"
   },
   "outputs": [
    {
     "name": "stdout",
     "output_type": "stream",
     "text": [
      "     user_id first_name   last_name  age  \\\n",
      "126     1126   Jermaine     Mcguire   68   \n",
      "439     1439      Moses     Cabrera   28   \n",
      "492     1492      Elvie       Jones   63   \n",
      "431     1431   Napoleon        Burt   74   \n",
      "498     1498       Scot  Williamson   51   \n",
      "\n",
      "                                          city    reg_date      plan  \\\n",
      "126     Chicago-Naperville-Elgin, IL-IN-WI MSA  2018-06-02  ultimate   \n",
      "439   Riverside-San Bernardino-Ontario, CA MSA  2018-01-04      surf   \n",
      "492    Portland-Vancouver-Hillsboro, OR-WA MSA  2018-03-07      surf   \n",
      "431        Sacramento–Roseville–Folsom, CA MSA  2018-01-28      surf   \n",
      "498  New York-Newark-Jersey City, NY-NJ-PA MSA  2018-02-04      surf   \n",
      "\n",
      "    churn_date  \n",
      "126        NaN  \n",
      "439        NaN  \n",
      "492        NaN  \n",
      "431        NaN  \n",
      "498        NaN  \n"
     ]
    }
   ],
   "source": [
    "# Imprime una muestra de datos para usuarios\n",
    "print(users.sample(5))"
   ]
  },
  {
   "cell_type": "markdown",
   "metadata": {
    "id": "dCZoUq4f0q06"
   },
   "source": [
    "[Describe lo que ves y observas en la información general y en la muestra de datos impresa para el precio de datos anterior. ¿Hay algún problema (tipos de datos no adecuados, datos ausentes, etc.) que pudieran necesitar investigación y cambios adicionales? ¿Cómo se puede arreglar?]\n",
    "Columnas:\n",
    "user_id: ID único del usuario (int64)\n",
    "first_name y last_name: Nombre y apellido del usuario (object)\n",
    "age: Edad (int64)\n",
    "city: Ciudad de residencia (object)\n",
    "reg_date: Fecha de registro (object o datetime64)\n",
    "plan: Plan contratado: 'surf' o 'ultimate' (object)\n",
    "churn_date: Fecha de cancelación del servicio (NaN si el usuario aún sigue activo)\n",
    "\n",
    "Problemas detectados:\n",
    "-reg_date y churn_date deberían ser tipo datetime, pero posiblemente están como texto (object).\n",
    "Solución: convertirlas a datetime.\n",
    "Valores nulos en churn_date: indican usuarios/as activos. No es un problema, pero conviene crear una columna que lo indique explícitamente."
   ]
  },
  {
   "cell_type": "markdown",
   "metadata": {
    "id": "BX5FQh_I0q06"
   },
   "source": [
    "### Corregir los datos"
   ]
  },
  {
   "cell_type": "markdown",
   "metadata": {
    "id": "8OdKMwJv0q06"
   },
   "source": [
    "[Corrige los problemas obvios con los datos basándote en las observaciones iniciales.]\n",
    "Convertir fechas a formato datetime:"
   ]
  },
  {
   "cell_type": "code",
   "execution_count": 52,
   "metadata": {
    "id": "yUqX-K0C0q07"
   },
   "outputs": [],
   "source": [
    "users['reg_date'] = pd.to_datetime(users['reg_date'])\n",
    "users['churn_date'] = pd.to_datetime(users['churn_date'])"
   ]
  },
  {
   "cell_type": "markdown",
   "metadata": {
    "id": "ycwuARJp0q07"
   },
   "source": [
    "### Enriquecer los datos"
   ]
  },
  {
   "cell_type": "markdown",
   "metadata": {
    "id": "96NIh4CJ0q08"
   },
   "source": [
    "[Agrega factores adicionales a los datos si crees que pudieran ser útiles.]\n",
    "Agregar columna is_active:\n",
    "Marca si el/la usuario/a sigue activo/a:"
   ]
  },
  {
   "cell_type": "code",
   "execution_count": 53,
   "metadata": {
    "id": "iq0AaBS90q08"
   },
   "outputs": [],
   "source": [
    "users['is_active'] = users['churn_date'].isna()"
   ]
  },
  {
   "cell_type": "markdown",
   "metadata": {
    "id": "o7MeKCid0q08"
   },
   "source": [
    "## Llamadas"
   ]
  },
  {
   "cell_type": "code",
   "execution_count": 54,
   "metadata": {
    "id": "6dDlnoDm0q08"
   },
   "outputs": [
    {
     "name": "stdout",
     "output_type": "stream",
     "text": [
      "<class 'pandas.core.frame.DataFrame'>\n",
      "Int64Index: 137735 entries, 0 to 137734\n",
      "Data columns (total 4 columns):\n",
      " #   Column     Non-Null Count   Dtype         \n",
      "---  ------     --------------   -----         \n",
      " 0   id         137735 non-null  object        \n",
      " 1   user_id    137735 non-null  int64         \n",
      " 2   call_date  137735 non-null  datetime64[ns]\n",
      " 3   duration   137735 non-null  float64       \n",
      "dtypes: datetime64[ns](1), float64(1), int64(1), object(1)\n",
      "memory usage: 5.3+ MB\n",
      "None\n"
     ]
    }
   ],
   "source": [
    "# Imprime la información general/resumida sobre el DataFrame de las llamadas\n",
    "print(calls.info())"
   ]
  },
  {
   "cell_type": "code",
   "execution_count": 55,
   "metadata": {
    "id": "kuh1vlNB0q09"
   },
   "outputs": [
    {
     "name": "stdout",
     "output_type": "stream",
     "text": [
      "             id  user_id  call_date  duration\n",
      "12872   1056_15     1056 2018-10-26      13.0\n",
      "49315  1178_427     1178 2018-10-21       0.0\n",
      "10170   1046_36     1046 2018-08-05       0.0\n",
      "7452    1036_44     1036 2018-12-12       9.0\n",
      "97983  1352_174     1352 2018-12-25       7.0\n"
     ]
    }
   ],
   "source": [
    "# Imprime una muestra de datos para las llamadas\n",
    "print(calls.sample(5))"
   ]
  },
  {
   "cell_type": "markdown",
   "metadata": {
    "id": "DOAxYJSx0q09"
   },
   "source": [
    "[Describe lo que ves y observas en la información general y en la muestra de datos impresa para el precio de datos anterior. ¿Hay algún problema (tipos de datos no adecuados, datos ausentes, etc.) que pudieran necesitar investigación y cambios adicionales? ¿Cómo se puede arreglar?]\n",
    "\n",
    "Columnas:\n",
    "id: Identificador único de cada llamada.\n",
    "user_id: ID del usuario que hizo la llamada.\n",
    "call_date: Fecha en la que se realizó la llamada (ya está correctamente en formato datetime).\n",
    "duration: Duración de la llamada en minutos, con decimales.\n",
    "Cantidad de datos:\n",
    "\n",
    "Hay 137,735 registros, lo cual es un volumen suficiente para análisis estadístico confiable.\n",
    "\n",
    "Posibles problemas:\n",
    "Duraciones de 0.00 minutos: Esto indica llamadas que no se completaron. Por ejemplo, en el registro con id = 1007_14, la duración es 0.\n",
    "Solución: Considerar si deseas excluir estas llamadas de los análisis de uso (ya que no consumieron minutos) o tratarlas de forma especial."
   ]
  },
  {
   "cell_type": "markdown",
   "metadata": {
    "id": "S7hzxmbX0q0-"
   },
   "source": [
    "### Corregir los datos\n"
   ]
  },
  {
   "cell_type": "markdown",
   "metadata": {
    "id": "YxWyAjD20q0-"
   },
   "source": [
    "[Corrige los problemas obvios con los datos basándote en las observaciones iniciales.]"
   ]
  },
  {
   "cell_type": "code",
   "execution_count": 56,
   "metadata": {
    "id": "S2r8xA4f0q0-"
   },
   "outputs": [],
   "source": [
    "#Redondear las duraciones hacia arriba\n",
    "import numpy as np\n",
    "calls['duration_rounded'] = np.ceil(calls['duration'])"
   ]
  },
  {
   "cell_type": "markdown",
   "metadata": {},
   "source": [
    "<div class=\"alert alert-block alert-success\">\n",
    "<b>Comentario del revisor (1ra Iteración)</b> <a class=“tocSkip”></a>\n",
    "\n",
    "¡Muy buen trabajo Lina! Redondear los datos de consumo de minutos es un paso clave para garantizar un cálculo preciso del cobro mensual.\n",
    "\n",
    "</div>"
   ]
  },
  {
   "cell_type": "markdown",
   "metadata": {
    "id": "KrMgTrlG0q0_"
   },
   "source": [
    "### Enriquecer los datos"
   ]
  },
  {
   "cell_type": "markdown",
   "metadata": {
    "id": "a9MbmEvE0q0_"
   },
   "source": [
    "[Agrega factores adicionales a los datos si crees que pudieran ser útiles.]"
   ]
  },
  {
   "cell_type": "code",
   "execution_count": 57,
   "metadata": {
    "id": "iZ1avpA_0q0_"
   },
   "outputs": [],
   "source": [
    "#Extraer el mes de la llamada para agrupar por usuario y mes:\n",
    "calls['month'] = calls['call_date'].dt.to_period('M')"
   ]
  },
  {
   "cell_type": "markdown",
   "metadata": {
    "id": "mOUZSi180q0_"
   },
   "source": [
    "## Mensajes"
   ]
  },
  {
   "cell_type": "code",
   "execution_count": 58,
   "metadata": {
    "id": "R-bYJpdV0q1A"
   },
   "outputs": [
    {
     "name": "stdout",
     "output_type": "stream",
     "text": [
      "<class 'pandas.core.frame.DataFrame'>\n",
      "Int64Index: 76051 entries, 0 to 76050\n",
      "Data columns (total 3 columns):\n",
      " #   Column        Non-Null Count  Dtype         \n",
      "---  ------        --------------  -----         \n",
      " 0   id            76051 non-null  object        \n",
      " 1   user_id       76051 non-null  int64         \n",
      " 2   message_date  76051 non-null  datetime64[ns]\n",
      "dtypes: datetime64[ns](1), int64(1), object(1)\n",
      "memory usage: 2.3+ MB\n",
      "None\n"
     ]
    }
   ],
   "source": [
    "# Imprime la información general/resumida sobre el DataFrame de los mensajes\n",
    "print(messages.info())"
   ]
  },
  {
   "cell_type": "code",
   "execution_count": 59,
   "metadata": {
    "id": "mCEl2iGE0q1A"
   },
   "outputs": [
    {
     "name": "stdout",
     "output_type": "stream",
     "text": [
      "             id  user_id message_date\n",
      "72647  1470_275     1470   2018-11-10\n",
      "37242  1247_406     1247   2018-12-09\n",
      "54161  1343_246     1343   2018-11-24\n",
      "59474  1375_434     1375   2018-12-05\n",
      "33117  1206_158     1206   2018-11-09\n"
     ]
    }
   ],
   "source": [
    "# Imprime una muestra de datos para los mensajes\n",
    "print(messages.sample(5))"
   ]
  },
  {
   "cell_type": "markdown",
   "metadata": {
    "id": "04xDj7KH0q1A"
   },
   "source": [
    "[Describe lo que ves y observas en la información general y en la muestra de datos impresa para el precio de datos anterior. ¿Hay algún problema (tipos de datos no adecuados, datos ausentes, etc.) que pudieran necesitar investigación y cambios adicionales? ¿Cómo se puede arreglar?]\n",
    "No hay valores nulos, lo cual es excelente: los 76.051 registros están completos.\n",
    "\n",
    "Los tipos de datos son adecuados:\n",
    "user_id como entero.\n",
    "message_date como fecha.\n",
    "id como texto."
   ]
  },
  {
   "cell_type": "markdown",
   "metadata": {
    "id": "Sprfak900q1B"
   },
   "source": [
    "### Corregir los datos"
   ]
  },
  {
   "cell_type": "markdown",
   "metadata": {
    "id": "eGw7d9j10q1B"
   },
   "source": [
    "[Corrige los problemas obvios con los datos basándote en las observaciones iniciales.]"
   ]
  },
  {
   "cell_type": "code",
   "execution_count": 60,
   "metadata": {
    "id": "vsllvkoa0q1B"
   },
   "outputs": [],
   "source": [
    "#No hay valores nulos, lo cual es excelente: los 76.051 registros están completos."
   ]
  },
  {
   "cell_type": "markdown",
   "metadata": {
    "id": "HvLid7iD0q1B"
   },
   "source": [
    "### Enriquecer los datos"
   ]
  },
  {
   "cell_type": "markdown",
   "metadata": {
    "id": "8nhPFKIe0q1C"
   },
   "source": [
    "[Agrega factores adicionales a los datos si crees que pudieran ser útiles.]"
   ]
  },
  {
   "cell_type": "code",
   "execution_count": 61,
   "metadata": {
    "id": "zYEXZac10q1C"
   },
   "outputs": [],
   "source": [
    "#columnas nuevas basadas en la fecha para análisis posteriores:\n",
    "messages['month'] = messages['message_date'].dt.month #Analizar cuántos mensajes se envían por mes.\n",
    "messages['weekday'] = messages['message_date'].dt.day_name() #Detectar patrones semanales."
   ]
  },
  {
   "cell_type": "markdown",
   "metadata": {
    "id": "bStkaxn40q1C"
   },
   "source": [
    "## Internet"
   ]
  },
  {
   "cell_type": "code",
   "execution_count": 62,
   "metadata": {
    "id": "e-Uz5qyn0q1C"
   },
   "outputs": [
    {
     "name": "stdout",
     "output_type": "stream",
     "text": [
      "<class 'pandas.core.frame.DataFrame'>\n",
      "Int64Index: 104825 entries, 0 to 104824\n",
      "Data columns (total 4 columns):\n",
      " #   Column        Non-Null Count   Dtype         \n",
      "---  ------        --------------   -----         \n",
      " 0   id            104825 non-null  object        \n",
      " 1   user_id       104825 non-null  int64         \n",
      " 2   session_date  104825 non-null  datetime64[ns]\n",
      " 3   mb_used       104825 non-null  float64       \n",
      "dtypes: datetime64[ns](1), float64(1), int64(1), object(1)\n",
      "memory usage: 4.0+ MB\n",
      "None\n"
     ]
    }
   ],
   "source": [
    "# Imprime la información general/resumida sobre el DataFrame de internet\n",
    "print(internet.info())"
   ]
  },
  {
   "cell_type": "code",
   "execution_count": 63,
   "metadata": {
    "id": "9r3x_XLw0q1C"
   },
   "outputs": [
    {
     "name": "stdout",
     "output_type": "stream",
     "text": [
      "             id  user_id session_date  mb_used\n",
      "37546  1170_354     1170   2018-12-17    63.21\n",
      "34884  1156_481     1156   2018-07-13   152.85\n",
      "72784  1338_190     1338   2018-09-05   719.36\n",
      "85937   1400_67     1400   2018-09-18   648.75\n",
      "2703    1012_33     1012   2018-11-22   145.79\n"
     ]
    }
   ],
   "source": [
    "# Imprime una muestra de datos para el tráfico de internet\n",
    "print(internet.sample(5))"
   ]
  },
  {
   "cell_type": "markdown",
   "metadata": {
    "id": "EzOG5ik30q1D"
   },
   "source": [
    "[Describe lo que ves y observas en la información general y en la muestra de datos impresa para el precio de datos anterior. ¿Hay algún problema (tipos de datos no adecuados, datos ausentes, etc.) que pudieran necesitar investigación y cambios adicionales? ¿Cómo se puede arreglar?]\n",
    "El uso de datos móviles (mb_used) varía bastante (ej: 118.29 MB, 325.25 MB, etc.).\n",
    "Las fechas están correctamente convertidas al tipo datetime.\n",
    "Todos los user_id están presentes y parecen coherentes."
   ]
  },
  {
   "cell_type": "markdown",
   "metadata": {
    "id": "yA0tkPFg0q1D"
   },
   "source": [
    "### Corregir los datos"
   ]
  },
  {
   "cell_type": "markdown",
   "metadata": {
    "id": "zlZMuIEK0q1D"
   },
   "source": [
    "[Corrige los problemas obvios con los datos basándote en las observaciones iniciales.]"
   ]
  },
  {
   "cell_type": "code",
   "execution_count": 64,
   "metadata": {
    "id": "zVeanzdd0q1E"
   },
   "outputs": [],
   "source": [
    "#No"
   ]
  },
  {
   "cell_type": "markdown",
   "metadata": {
    "id": "e8_mLF4a0q1E"
   },
   "source": [
    "### Enriquecer los datos"
   ]
  },
  {
   "cell_type": "markdown",
   "metadata": {
    "id": "xhNdn2tE0q1E"
   },
   "source": [
    "[Agrega factores adicionales a los datos si crees que pudieran ser útiles.]"
   ]
  },
  {
   "cell_type": "code",
   "execution_count": 65,
   "metadata": {
    "id": "ESiYPIEK0q1E"
   },
   "outputs": [],
   "source": [
    "#No"
   ]
  },
  {
   "cell_type": "markdown",
   "metadata": {},
   "source": [
    "<div class=\"alert alert-block alert-success\">\n",
    "<b>Comentario del revisor (1ra Iteración)</b> <a class=“tocSkip”></a>\n",
    "\n",
    "Excelente trabajo en el análisis preliminar de los datasets. Usaste correctamente las funciones `info` y `sample` para revisar la estructura y el contenido de los datos, lo que te permitió realizar los ajustes necesarios. Esto facilitará el análisis de los datos y el desarrollo de las demás etapas del proyecto.\n",
    "\n",
    "\n",
    "</div>"
   ]
  },
  {
   "cell_type": "markdown",
   "metadata": {
    "id": "3UA2cqIW0q1E"
   },
   "source": [
    "## Estudiar las condiciones de las tarifas"
   ]
  },
  {
   "cell_type": "markdown",
   "metadata": {
    "id": "T86Sqltq0q1F"
   },
   "source": [
    "[Es sumamente importante entender cómo funcionan las tarifas, cómo se les cobra a los usuarios en función de su plan de suscripción. Así que te sugerimos imprimir la información de la tarifa para ver una vez más sus condiciones.]"
   ]
  },
  {
   "cell_type": "code",
   "execution_count": 66,
   "metadata": {
    "id": "i409op8p0q1F"
   },
   "outputs": [
    {
     "name": "stdout",
     "output_type": "stream",
     "text": [
      "   messages_included  mb_per_month_included  minutes_included  \\\n",
      "0                 50                  15360               500   \n",
      "1               1000                  30720              3000   \n",
      "\n",
      "   usd_monthly_pay  usd_per_gb  usd_per_message  usd_per_minute plan_name  \\\n",
      "0               20          10             0.03            0.03      surf   \n",
      "1               70           7             0.01            0.01  ultimate   \n",
      "\n",
      "   gb_included  \n",
      "0         15.0  \n",
      "1         30.0  \n"
     ]
    }
   ],
   "source": [
    "# Imprime las condiciones de la tarifa y asegúrate de que te quedan claras\n",
    "print(tariffs)"
   ]
  },
  {
   "cell_type": "markdown",
   "metadata": {
    "id": "hMR1tP5d0q1F"
   },
   "source": [
    "## Agregar datos por usuario\n",
    "\n",
    "[Ahora que los datos están limpios, agrega los datos por usuario y por periodo para que solo haya un registro por usuario y por periodo. Esto facilitará mucho el análisis posterior.]"
   ]
  },
  {
   "cell_type": "code",
   "execution_count": 67,
   "metadata": {
    "scrolled": true
   },
   "outputs": [
    {
     "name": "stdout",
     "output_type": "stream",
     "text": [
      "   user_id  month  calls_count  duration_sum\n",
      "0     1000     12           16           124\n",
      "1     1001      8           27           182\n",
      "2     1001      9           49           315\n",
      "3     1001     10           65           393\n",
      "4     1001     11           64           426\n"
     ]
    }
   ],
   "source": [
    "# Calcular el número de llamadas hechas y minutos usados por mes para cada usuario\n",
    "monthly_calls = calls.groupby(['user_id', calls['call_date'].dt.month])['duration'].agg(['count', 'sum']).reset_index()\n",
    "monthly_calls.columns = ['user_id', 'month', 'calls_count', 'duration_sum']\n",
    "# enteros para la facturación\n",
    "monthly_calls['duration_sum'] = monthly_calls['duration_sum'].astype(int)\n",
    "print(monthly_calls.head())"
   ]
  },
  {
   "cell_type": "code",
   "execution_count": 68,
   "metadata": {},
   "outputs": [
    {
     "name": "stdout",
     "output_type": "stream",
     "text": [
      "   user_id  month  messages_count\n",
      "0     1000     12              11\n",
      "1     1001      8              30\n",
      "2     1001      9              44\n",
      "3     1001     10              53\n",
      "4     1001     11              36\n"
     ]
    }
   ],
   "source": [
    "# Calcular el número de mensajes enviados por mes para cada usuario\n",
    "monthly_messages = messages.groupby(['user_id', messages['message_date'].dt.month]).agg(messages_count=('id', 'count')).reset_index()\n",
    "monthly_messages.columns = ['user_id', 'month', 'messages_count']\n",
    "print(monthly_messages.head())"
   ]
  },
  {
   "cell_type": "code",
   "execution_count": 69,
   "metadata": {},
   "outputs": [
    {
     "name": "stdout",
     "output_type": "stream",
     "text": [
      "   user_id  month  mb_used_sum  gb_used_round_up\n",
      "0     1000     12      1901.47                 2\n",
      "1     1001      8      6919.15                 7\n",
      "2     1001      9     13314.82                14\n",
      "3     1001     10     22330.49                22\n",
      "4     1001     11     18504.30                19\n"
     ]
    }
   ],
   "source": [
    "# Calcular el volumen de datos por mes para cada usuario\n",
    "monthly_internet = internet.groupby(['user_id', internet['session_date'].dt.month]).agg(mb_used_sum=('mb_used', 'sum')).reset_index()\n",
    "monthly_internet.columns = ['user_id', 'month', 'mb_used_sum']\n",
    "\n",
    "# Convertir MB a GB y redondear hacia arriba\n",
    "monthly_internet['gb_used_round_up'] = (monthly_internet['mb_used_sum'] / 1024).apply(np.ceil).astype(int)\n",
    "print(monthly_internet.head())"
   ]
  },
  {
   "cell_type": "markdown",
   "metadata": {
    "id": "VDfYXnj80q1H"
   },
   "source": [
    "[Junta los datos agregados en un DataFrame para que haya un registro que represente lo que consumió un usuario único en un mes determinado.]"
   ]
  },
  {
   "cell_type": "markdown",
   "metadata": {
    "id": "1IwGo4wg0q1I"
   },
   "source": [
    "[Calcula los ingresos mensuales por usuario (resta el límite del paquete gratuito del número total de llamadas, mensajes de texto y datos; multiplica el resultado por el valor del plan de llamadas; añade la tarifa mensual en función del plan de llamadas). Nota: Dadas las condiciones del plan, ¡esto podría no ser tan trivial como un par de líneas! Así que no pasa nada si dedicas algo de tiempo a ello.]"
   ]
  },
  {
   "cell_type": "code",
   "execution_count": 70,
   "metadata": {
    "id": "FW99ykyf0q1H"
   },
   "outputs": [
    {
     "name": "stdout",
     "output_type": "stream",
     "text": [
      "Columnas de 'tariffs' antes de la fusión:\n",
      "Index(['messages_included', 'mb_per_month_included', 'minutes_included',\n",
      "       'usd_monthly_pay', 'usd_per_gb', 'usd_per_message', 'usd_per_minute',\n",
      "       'plan_name', 'gb_included'],\n",
      "      dtype='object')\n",
      "\n",
      "Columnas de 'data' después de la fusión con 'tariffs':\n",
      "Index(['user_id', 'first_name', 'last_name', 'age', 'city', 'reg_date', 'plan',\n",
      "       'churn_date', 'is_active', 'month', 'calls_count', 'duration_sum',\n",
      "       'messages_count', 'mb_used_sum', 'gb_used_round_up',\n",
      "       'messages_included', 'mb_per_month_included', 'minutes_included',\n",
      "       'usd_monthly_pay', 'usd_per_gb', 'usd_per_message', 'usd_per_minute',\n",
      "       'plan_name', 'gb_included'],\n",
      "      dtype='object')\n",
      "\n",
      "Datos con ingresos mensuales (primeras filas):\n"
     ]
    },
    {
     "data": {
      "text/html": [
       "<div>\n",
       "<style scoped>\n",
       "    .dataframe tbody tr th:only-of-type {\n",
       "        vertical-align: middle;\n",
       "    }\n",
       "\n",
       "    .dataframe tbody tr th {\n",
       "        vertical-align: top;\n",
       "    }\n",
       "\n",
       "    .dataframe thead th {\n",
       "        text-align: right;\n",
       "    }\n",
       "</style>\n",
       "<table border=\"1\" class=\"dataframe\">\n",
       "  <thead>\n",
       "    <tr style=\"text-align: right;\">\n",
       "      <th></th>\n",
       "      <th>user_id</th>\n",
       "      <th>first_name</th>\n",
       "      <th>last_name</th>\n",
       "      <th>age</th>\n",
       "      <th>city</th>\n",
       "      <th>reg_date</th>\n",
       "      <th>plan</th>\n",
       "      <th>churn_date</th>\n",
       "      <th>is_active</th>\n",
       "      <th>month</th>\n",
       "      <th>...</th>\n",
       "      <th>mb_per_month_included</th>\n",
       "      <th>minutes_included</th>\n",
       "      <th>usd_monthly_pay</th>\n",
       "      <th>usd_per_gb</th>\n",
       "      <th>usd_per_message</th>\n",
       "      <th>usd_per_minute</th>\n",
       "      <th>plan_name</th>\n",
       "      <th>gb_included</th>\n",
       "      <th>gb_per_month_included</th>\n",
       "      <th>monthly_revenue</th>\n",
       "    </tr>\n",
       "  </thead>\n",
       "  <tbody>\n",
       "    <tr>\n",
       "      <th>0</th>\n",
       "      <td>1000</td>\n",
       "      <td>Anamaria</td>\n",
       "      <td>Bauer</td>\n",
       "      <td>45</td>\n",
       "      <td>Atlanta-Sandy Springs-Roswell, GA MSA</td>\n",
       "      <td>2018-12-24</td>\n",
       "      <td>ultimate</td>\n",
       "      <td>NaT</td>\n",
       "      <td>True</td>\n",
       "      <td>12.0</td>\n",
       "      <td>...</td>\n",
       "      <td>30720</td>\n",
       "      <td>3000</td>\n",
       "      <td>70</td>\n",
       "      <td>7</td>\n",
       "      <td>0.01</td>\n",
       "      <td>0.01</td>\n",
       "      <td>ultimate</td>\n",
       "      <td>30.0</td>\n",
       "      <td>30.0</td>\n",
       "      <td>70.00</td>\n",
       "    </tr>\n",
       "    <tr>\n",
       "      <th>1</th>\n",
       "      <td>1001</td>\n",
       "      <td>Mickey</td>\n",
       "      <td>Wilkerson</td>\n",
       "      <td>28</td>\n",
       "      <td>Seattle-Tacoma-Bellevue, WA MSA</td>\n",
       "      <td>2018-08-13</td>\n",
       "      <td>surf</td>\n",
       "      <td>NaT</td>\n",
       "      <td>True</td>\n",
       "      <td>8.0</td>\n",
       "      <td>...</td>\n",
       "      <td>15360</td>\n",
       "      <td>500</td>\n",
       "      <td>20</td>\n",
       "      <td>10</td>\n",
       "      <td>0.03</td>\n",
       "      <td>0.03</td>\n",
       "      <td>surf</td>\n",
       "      <td>15.0</td>\n",
       "      <td>15.0</td>\n",
       "      <td>20.00</td>\n",
       "    </tr>\n",
       "    <tr>\n",
       "      <th>2</th>\n",
       "      <td>1001</td>\n",
       "      <td>Mickey</td>\n",
       "      <td>Wilkerson</td>\n",
       "      <td>28</td>\n",
       "      <td>Seattle-Tacoma-Bellevue, WA MSA</td>\n",
       "      <td>2018-08-13</td>\n",
       "      <td>surf</td>\n",
       "      <td>NaT</td>\n",
       "      <td>True</td>\n",
       "      <td>9.0</td>\n",
       "      <td>...</td>\n",
       "      <td>15360</td>\n",
       "      <td>500</td>\n",
       "      <td>20</td>\n",
       "      <td>10</td>\n",
       "      <td>0.03</td>\n",
       "      <td>0.03</td>\n",
       "      <td>surf</td>\n",
       "      <td>15.0</td>\n",
       "      <td>15.0</td>\n",
       "      <td>20.00</td>\n",
       "    </tr>\n",
       "    <tr>\n",
       "      <th>3</th>\n",
       "      <td>1001</td>\n",
       "      <td>Mickey</td>\n",
       "      <td>Wilkerson</td>\n",
       "      <td>28</td>\n",
       "      <td>Seattle-Tacoma-Bellevue, WA MSA</td>\n",
       "      <td>2018-08-13</td>\n",
       "      <td>surf</td>\n",
       "      <td>NaT</td>\n",
       "      <td>True</td>\n",
       "      <td>10.0</td>\n",
       "      <td>...</td>\n",
       "      <td>15360</td>\n",
       "      <td>500</td>\n",
       "      <td>20</td>\n",
       "      <td>10</td>\n",
       "      <td>0.03</td>\n",
       "      <td>0.03</td>\n",
       "      <td>surf</td>\n",
       "      <td>15.0</td>\n",
       "      <td>15.0</td>\n",
       "      <td>90.09</td>\n",
       "    </tr>\n",
       "    <tr>\n",
       "      <th>4</th>\n",
       "      <td>1001</td>\n",
       "      <td>Mickey</td>\n",
       "      <td>Wilkerson</td>\n",
       "      <td>28</td>\n",
       "      <td>Seattle-Tacoma-Bellevue, WA MSA</td>\n",
       "      <td>2018-08-13</td>\n",
       "      <td>surf</td>\n",
       "      <td>NaT</td>\n",
       "      <td>True</td>\n",
       "      <td>11.0</td>\n",
       "      <td>...</td>\n",
       "      <td>15360</td>\n",
       "      <td>500</td>\n",
       "      <td>20</td>\n",
       "      <td>10</td>\n",
       "      <td>0.03</td>\n",
       "      <td>0.03</td>\n",
       "      <td>surf</td>\n",
       "      <td>15.0</td>\n",
       "      <td>15.0</td>\n",
       "      <td>60.00</td>\n",
       "    </tr>\n",
       "  </tbody>\n",
       "</table>\n",
       "<p>5 rows × 26 columns</p>\n",
       "</div>"
      ],
      "text/plain": [
       "   user_id first_name  last_name  age                                   city  \\\n",
       "0     1000   Anamaria      Bauer   45  Atlanta-Sandy Springs-Roswell, GA MSA   \n",
       "1     1001     Mickey  Wilkerson   28        Seattle-Tacoma-Bellevue, WA MSA   \n",
       "2     1001     Mickey  Wilkerson   28        Seattle-Tacoma-Bellevue, WA MSA   \n",
       "3     1001     Mickey  Wilkerson   28        Seattle-Tacoma-Bellevue, WA MSA   \n",
       "4     1001     Mickey  Wilkerson   28        Seattle-Tacoma-Bellevue, WA MSA   \n",
       "\n",
       "    reg_date      plan churn_date  is_active  month  ...  \\\n",
       "0 2018-12-24  ultimate        NaT       True   12.0  ...   \n",
       "1 2018-08-13      surf        NaT       True    8.0  ...   \n",
       "2 2018-08-13      surf        NaT       True    9.0  ...   \n",
       "3 2018-08-13      surf        NaT       True   10.0  ...   \n",
       "4 2018-08-13      surf        NaT       True   11.0  ...   \n",
       "\n",
       "   mb_per_month_included  minutes_included  usd_monthly_pay  usd_per_gb  \\\n",
       "0                  30720              3000               70           7   \n",
       "1                  15360               500               20          10   \n",
       "2                  15360               500               20          10   \n",
       "3                  15360               500               20          10   \n",
       "4                  15360               500               20          10   \n",
       "\n",
       "   usd_per_message  usd_per_minute  plan_name  gb_included  \\\n",
       "0             0.01            0.01   ultimate         30.0   \n",
       "1             0.03            0.03       surf         15.0   \n",
       "2             0.03            0.03       surf         15.0   \n",
       "3             0.03            0.03       surf         15.0   \n",
       "4             0.03            0.03       surf         15.0   \n",
       "\n",
       "   gb_per_month_included  monthly_revenue  \n",
       "0                   30.0            70.00  \n",
       "1                   15.0            20.00  \n",
       "2                   15.0            20.00  \n",
       "3                   15.0            90.09  \n",
       "4                   15.0            60.00  \n",
       "\n",
       "[5 rows x 26 columns]"
      ]
     },
     "metadata": {},
     "output_type": "display_data"
    },
    {
     "name": "stdout",
     "output_type": "stream",
     "text": [
      "\n",
      "Información del DataFrame 'data' final:\n",
      "<class 'pandas.core.frame.DataFrame'>\n",
      "Int64Index: 2277 entries, 0 to 2276\n",
      "Data columns (total 26 columns):\n",
      " #   Column                 Non-Null Count  Dtype         \n",
      "---  ------                 --------------  -----         \n",
      " 0   user_id                2277 non-null   int64         \n",
      " 1   first_name             2277 non-null   object        \n",
      " 2   last_name              2277 non-null   object        \n",
      " 3   age                    2277 non-null   int64         \n",
      " 4   city                   2277 non-null   object        \n",
      " 5   reg_date               2277 non-null   datetime64[ns]\n",
      " 6   plan                   2277 non-null   object        \n",
      " 7   churn_date             160 non-null    datetime64[ns]\n",
      " 8   is_active              2277 non-null   bool          \n",
      " 9   month                  2258 non-null   float64       \n",
      " 10  calls_count            2277 non-null   int64         \n",
      " 11  minutes_used           2277 non-null   int64         \n",
      " 12  messages_sent          2277 non-null   int64         \n",
      " 13  mb_used_sum            2277 non-null   float64       \n",
      " 14  gb_used_total          2277 non-null   int64         \n",
      " 15  messages_included      2277 non-null   int64         \n",
      " 16  mb_per_month_included  2277 non-null   int64         \n",
      " 17  minutes_included       2277 non-null   int64         \n",
      " 18  usd_monthly_pay        2277 non-null   int64         \n",
      " 19  usd_per_gb             2277 non-null   int64         \n",
      " 20  usd_per_message        2277 non-null   float64       \n",
      " 21  usd_per_minute         2277 non-null   float64       \n",
      " 22  plan_name              2277 non-null   object        \n",
      " 23  gb_included            2277 non-null   float64       \n",
      " 24  gb_per_month_included  2277 non-null   float64       \n",
      " 25  monthly_revenue        2277 non-null   float64       \n",
      "dtypes: bool(1), datetime64[ns](2), float64(7), int64(11), object(5)\n",
      "memory usage: 464.7+ KB\n"
     ]
    }
   ],
   "source": [
    "# Fusiona los datos de llamadas, minutos, mensajes e Internet con base en user_id y month\n",
    "# Verificar las columnas de tariffs antes de la fusión\n",
    "print(\"Columnas de 'tariffs' antes de la fusión:\")\n",
    "print(tariffs.columns)\n",
    "\n",
    "# Unir los DataFrames por user_id y mes\n",
    "# 1. Fusionar 'users' con 'monthly_calls'\n",
    "data = users.merge(monthly_calls, on='user_id', how='left')\n",
    "\n",
    "# 2. Fusionar el resultado con 'monthly_messages'\n",
    "data = data.merge(monthly_messages, on=['user_id', 'month'], how='left')\n",
    "\n",
    "# 3. Fusionar el resultado con 'monthly_internet'\n",
    "data = data.merge(monthly_internet, on=['user_id', 'month'], how='left')\n",
    "\n",
    "# 4. Fusionar el resultado final con 'tariffs' para obtener la información del plan\n",
    "# 'plan' viene de 'users', 'plan_name' de 'tariffs'\n",
    "data = data.merge(tariffs, left_on='plan', right_on='plan_name', how='left')\n",
    "\n",
    "# Verificar las columnas de 'data' después de la fusión con 'tariffs'\n",
    "print(\"\\nColumnas de 'data' después de la fusión con 'tariffs':\")\n",
    "print(data.columns)\n",
    "\n",
    "# Rellenar los valores NaN que resultan de usuarios sin llamadas/mensajes/internet en un mes\n",
    "data['calls_count'] = data['calls_count'].fillna(0).astype(int)\n",
    "data['duration_sum'] = data['duration_sum'].fillna(0).astype(int)\n",
    "data['messages_count'] = data['messages_count'].fillna(0).astype(int)\n",
    "data['mb_used_sum'] = data['mb_used_sum'].fillna(0) # Mantener como float para mb_used_sum\n",
    "data['gb_used_round_up'] = data['gb_used_round_up'].fillna(0).astype(int)\n",
    "\n",
    "# Renombrar columnas para que coincidan con los nombres esperados por la función de cálculo de ingresos\n",
    "data = data.rename(columns={\n",
    "    'duration_sum': 'minutes_used',\n",
    "    'messages_count': 'messages_sent',\n",
    "    'gb_used_round_up': 'gb_used_total' # gb_used_total ahora tiene los GB redondeados hacia arriba\n",
    "})\n",
    "\n",
    "if 'mb_per_month_included' in data.columns and 'gb_per_month_included' not in data.columns:\n",
    "    data['gb_per_month_included'] = data['mb_per_month_included'] / 1024\n",
    "    # Si 'mb_per_month_included' no existía inicialmente, pero el plan_name sí,\n",
    "    # y la fusión fue left, podría ser NaN. Aseguramos que sea 0 para planes sin info de GBs si fuera el caso\n",
    "    data['gb_per_month_included'] = data['gb_per_month_included'].fillna(0)\n",
    "\n",
    "\n",
    "# Definir la función para calcular los ingresos mensuales por cada usuario\n",
    "def calculate_monthly_revenue(row):\n",
    "    # Obtener límites del plan desde las columnas del DataFrame 'data'\n",
    "    minutes_included = row['minutes_included']\n",
    "    messages_included = row['messages_included']\n",
    "    gb_included = row['gb_per_month_included'] # Ya convertido a GB y presente en 'data'\n",
    "\n",
    "    # Obtener costos por exceso y la cuota mensual desde 'data'\n",
    "    usd_per_minute = row['usd_per_minute']\n",
    "    usd_per_message = row['usd_per_message']\n",
    "    usd_per_gb = row['usd_per_gb']\n",
    "    usd_monthly_fee = row['usd_monthly_pay'] \n",
    "\n",
    "    # Calcular exceso de minutos\n",
    "    excess_minutes = max(0, row['minutes_used'] - minutes_included)\n",
    "    cost_minutes = excess_minutes * usd_per_minute\n",
    "\n",
    "    # Calcular exceso de mensajes\n",
    "    excess_messages = max(0, row['messages_sent'] - messages_included)\n",
    "    cost_messages = excess_messages * usd_per_message\n",
    "\n",
    "    # Calcular exceso de datos usando 'gb_used_total' (que ya está redondeado hacia arriba)\n",
    "    excess_gb = max(0, row['gb_used_total'] - gb_included)\n",
    "    cost_gb = excess_gb * usd_per_gb\n",
    "\n",
    "    # Ingreso total: cuota mensual del plan + costos por exceso\n",
    "    total_revenue = usd_monthly_fee + cost_minutes + cost_messages + cost_gb\n",
    "    return total_revenue\n",
    "\n",
    "# Aplicar la función a cada fila del DataFrame 'data' para calcular el ingreso mensual\n",
    "data['monthly_revenue'] = data.apply(calculate_monthly_revenue, axis=1)\n",
    "\n",
    "print(\"\\nDatos con ingresos mensuales (primeras filas):\")\n",
    "display(data.head())\n",
    "print(\"\\nInformación del DataFrame 'data' final:\")\n",
    "data.info()"
   ]
  },
  {
   "cell_type": "markdown",
   "metadata": {},
   "source": [
    "<div class=\"alert alert-block alert-danger\">\n",
    "<b>Comentario del revisor (1ra Iteración)</b> <a class=“tocSkip”></a>\n",
    "\n",
    "Hiciste una correcta agrupación de los datos de llamadas y mensajes combinando `groupby`  y `merge`, pero recuerda que, según el enunciado del proyecto, los valores de consumo de internet deben redondearse hacia arriba, ya que el cobro se hace por GB completo. Para esto debes tener en cuenta lo siguiente: \n",
    "\n",
    "1. Sumar el consumo total en MB para cada usuario por mes\n",
    "2. Este consumo total lo conviertes a GB\n",
    "3. Redondeas hacia arriba el consumo en GB\n",
    "4. Finalmente debes comparar este consumo con los GB incluidos en cada plan (15GB o 30GB) y realizas el cobro adicional en el caso de que exista un exceso de consumo.\n",
    "\n",
    "</div>"
   ]
  },
  {
   "cell_type": "markdown",
   "metadata": {},
   "source": [
    "<div class=\"alert alert-block alert-warning\">\n",
    "<b>Comentario del revisor (1ra Iteración)</b> <a class=“tocSkip”></a>\n",
    "\n",
    "La lógica de cálculo del cobro mensual es correcta en general, solo necesitas ajustar el redondeo como te mencioné antes. Asegúrate de hacer la estimación del cobro por el consumo de internet comparando los datos en GB, además es importante considerar el plan de cada usuario, el costo del plan base y los cargos por consumos adicionales para calcular correctamente el monto final.\n",
    "\n",
    "</div>"
   ]
  },
  {
   "cell_type": "markdown",
   "metadata": {},
   "source": [
    "<div class=\"alert alert-block alert-success\">\n",
    "<b>Comentario del revisor (2da Iteración)</b> <a class=“tocSkip”></a>\n",
    "\n",
    "Buen trabajo Lina, has calculado correctamente el cobro mensual para cada usuario\n",
    "\n",
    "</div>"
   ]
  },
  {
   "cell_type": "markdown",
   "metadata": {
    "id": "-jtyHzJb0q1I"
   },
   "source": [
    "## Estudia el comportamiento de usuario"
   ]
  },
  {
   "cell_type": "markdown",
   "metadata": {
    "id": "AxU3Y0N70q1J"
   },
   "source": [
    "[Calcula algunas estadísticas descriptivas para los datos agregados y fusionados que nos sean útiles y que muestren un panorama general captado por los datos. Dibuja gráficos útiles para facilitar la comprensión. Dado que la tarea principal es comparar las tarifas y decidir cuál es más rentable, las estadísticas y gráficas deben calcularse por tarifa.]\n",
    "\n",
    "[En los comentarios hallarás pistas relevantes para las llamadas, pero no las hay para los mensajes e Internet. Sin embargo, el principio del estudio estadístico que se aplica para ellos es el mismo que para las llamadas.]"
   ]
  },
  {
   "cell_type": "markdown",
   "metadata": {
    "id": "vtW4CJEe0q1J"
   },
   "source": [
    "### Llamadas"
   ]
  },
  {
   "cell_type": "code",
   "execution_count": 71,
   "metadata": {},
   "outputs": [],
   "source": [
    "# Asegúrate de que call_date esté en formato datetime\n",
    "calls['call_date'] = pd.to_datetime(calls['call_date'])\n",
    "\n",
    "# Extraer el mes\n",
    "calls['month'] = calls['call_date'].dt.month\n",
    "\n",
    "# Agrupar por usuario y mes para sumar minutos\n",
    "monthly_calls = calls.groupby(['user_id', 'month'])['duration'].sum().reset_index()\n",
    "monthly_calls.rename(columns={'duration': 'minutes_used'}, inplace=True)\n",
    "\n",
    "# Unir con los planes de los usuarios\n",
    "user_monthly = monthly_calls.merge(users[['user_id', 'plan']], on='user_id', how='left')"
   ]
  },
  {
   "cell_type": "code",
   "execution_count": 72,
   "metadata": {
    "id": "Jf5v5--k0q1J"
   },
   "outputs": [
    {
     "data": {
      "image/png": "[encoded data removed]",
      "text/plain": [
       "<Figure size 1200x600 with 1 Axes>"
      ]
     },
     "metadata": {},
     "output_type": "display_data"
    }
   ],
   "source": [
    "# Compara la duración promedio de llamadas por cada plan y por cada mes. Traza un gráfico de barras para visualizarla.\n",
    "avg_call_duration = user_monthly.groupby(['plan', 'month'])['minutes_used'].mean().reset_index()\n",
    "\n",
    "# Renombrar la columna\n",
    "avg_call_duration.rename(columns={'minutes_used': 'avg_call_duration'}, inplace=True)\n",
    "\n",
    "import seaborn as sns\n",
    "import matplotlib.pyplot as plt\n",
    "\n",
    "plt.figure(figsize=(12, 6))\n",
    "sns.barplot(data=avg_call_duration, x='month', y='avg_call_duration', hue='plan')\n",
    "plt.title('Duración promedio de llamadas por plan y mes')\n",
    "plt.xlabel('Mes')\n",
    "plt.ylabel('Duración promedio de llamadas (minutos)')\n",
    "plt.legend(title='Plan')\n",
    "plt.xticks(ticks=range(0, 12), labels=[\n",
    "    'Ene', 'Feb', 'Mar', 'Abr', 'May', 'Jun',\n",
    "    'Jul', 'Ago', 'Sep', 'Oct', 'Nov', 'Dic'\n",
    "])\n",
    "plt.tight_layout()\n",
    "plt.show()"
   ]
  },
  {
   "cell_type": "code",
   "execution_count": 73,
   "metadata": {
    "id": "QoLqW1S_0q1J"
   },
   "outputs": [
    {
     "data": {
      "image/png": "[encoded data removed]",
      "text/plain": [
       "<Figure size 1200x600 with 1 Axes>"
      ]
     },
     "metadata": {},
     "output_type": "display_data"
    }
   ],
   "source": [
    "# Compara el número de minutos mensuales que necesitan los usuarios de cada plan. Traza un histograma.\n",
    "import matplotlib.pyplot as plt\n",
    "import seaborn as sns\n",
    "\n",
    "# Filtrar los datos por plan\n",
    "surf_minutes = user_monthly[user_monthly['plan'] == 'surf']['minutes_used']\n",
    "ultimate_minutes = user_monthly[user_monthly['plan'] == 'ultimate']['minutes_used']\n",
    "\n",
    "plt.figure(figsize=(12, 6))\n",
    "sns.histplot(surf_minutes, bins=30, color='skyblue', label='Surf', kde=True, stat=\"density\")\n",
    "sns.histplot(ultimate_minutes, bins=30, color='salmon', label='Ultimate', kde=True, stat=\"density\")\n",
    "\n",
    "# Etiquetas y leyenda\n",
    "plt.title('Distribución de minutos usados por mes según el plan')\n",
    "plt.xlabel('Minutos usados al mes')\n",
    "plt.ylabel('Densidad')\n",
    "plt.legend(title='Plan')\n",
    "plt.tight_layout()\n",
    "plt.show()"
   ]
  },
  {
   "cell_type": "markdown",
   "metadata": {
    "id": "bLS9T8OH0q1K"
   },
   "source": [
    "[Calcula la media y la variable de la duración de las llamadas para averiguar si los usuarios de los distintos planes se comportan de forma diferente al realizar sus llamadas.]"
   ]
  },
  {
   "cell_type": "code",
   "execution_count": 74,
   "metadata": {
    "id": "oSndbAnt0q1K"
   },
   "outputs": [
    {
     "name": "stdout",
     "output_type": "stream",
     "text": [
      "       plan  mean_minutes   var_minutes\n",
      "0      surf    436.519741  52571.063243\n",
      "1  ultimate    434.676017  56573.632247\n"
     ]
    }
   ],
   "source": [
    "# Calcula la media y la varianza de la duración mensual de llamadas.\n",
    "call_stats = user_monthly.groupby('plan')['minutes_used'].agg(['mean', 'var']).reset_index()\n",
    "# Renombrar columnas \n",
    "call_stats.columns = ['plan', 'mean_minutes', 'var_minutes']\n",
    "print(call_stats)"
   ]
  },
  {
   "cell_type": "code",
   "execution_count": 75,
   "metadata": {
    "id": "nZzoRUKc0q1K"
   },
   "outputs": [
    {
     "data": {
      "image/png": "[encoded data removed]",
      "text/plain": [
       "<Figure size 1000x600 with 1 Axes>"
      ]
     },
     "metadata": {},
     "output_type": "display_data"
    }
   ],
   "source": [
    "# Traza un diagrama de caja para visualizar la distribución de la duración mensual de llamadas\n",
    "import seaborn as sns\n",
    "import matplotlib.pyplot as plt\n",
    "\n",
    "# Ajustar el tamaño del gráfico\n",
    "plt.figure(figsize=(10, 6))\n",
    "\n",
    "# Crear el boxplot\n",
    "sns.boxplot(x='plan', y='minutes_used', data=user_monthly)\n",
    "\n",
    "# Títulos y etiquetas\n",
    "plt.title('Distribución mensual de minutos usados por plan')\n",
    "plt.xlabel('Plan')\n",
    "plt.ylabel('Minutos usados al mes')\n",
    "\n",
    "plt.show()"
   ]
  },
  {
   "cell_type": "markdown",
   "metadata": {
    "id": "r627zBO50q1K"
   },
   "source": [
    "[Elabora las conclusiones sobre el comportamiento de los usuarios con respecto a las llamadas. ¿Su comportamiento varía en función del plan?]\n",
    "\n",
    "Los usuarios sí varían su comportamiento según el plan:\n",
    "Aquellos con el plan Ultimate parecen aprovechar la libertad de llamadas ilimitadas, lo que se refleja en una mayor media y dispersión.\n",
    "En cambio, los del plan Surf tienden a comportarse de forma más uniforme, probablemente intentando no exceder el límite de 500 minutos para evitar costos adicionales."
   ]
  },
  {
   "cell_type": "markdown",
   "metadata": {},
   "source": [
    "<div class=\"alert alert-block alert-danger\">\n",
    "<b>Comentario del revisor (1ra Iteración)</b> <a clas=“tocSkip”></a>\n",
    "\n",
    "La estructura de análisis del comportamiento de consumo de los usuarios (visualizaciones y cálculo de valores estadísticos) que empleaste para los datos de **llamadas** está muy bien. Debes usar la misma estructura de análisis para los demás conjuntos de datos: **mensajes, internet e ingresos**, es decir mostrar los mismos gráficos y obtener los valores estadísticos para estos conjunto de datos. Lo anterior, con el fin de lograr hacer una comparación detallada del comportamiento de los usuarios de cada plan.\n",
    "\n",
    "</div>"
   ]
  },
  {
   "cell_type": "markdown",
   "metadata": {
    "id": "8idKy8Wh0q1L"
   },
   "source": [
    "### Mensajes"
   ]
  },
  {
   "cell_type": "code",
   "execution_count": 76,
   "metadata": {},
   "outputs": [],
   "source": [
    "# Asegúrate de que message_date esté en formato datetime\n",
    "messages['message_date'] = pd.to_datetime(messages['message_date'])\n",
    "\n",
    "messages['month'] = messages['message_date'].dt.month\n",
    "\n",
    "# Contar la cantidad de mensajes enviados por usuario y mes\n",
    "monthly_messages = messages.groupby(['user_id', 'month']).size().reset_index(name='messages_sent')\n",
    "\n",
    "# Unir con los planes de los usuarios\n",
    "messages_monthly = monthly_messages.merge(users[['user_id', 'plan']], on='user_id', how='left')"
   ]
  },
  {
   "cell_type": "code",
   "execution_count": 77,
   "metadata": {},
   "outputs": [
    {
     "data": {
      "image/png": "[encoded data removed]",
      "text/plain": [
       "<Figure size 1200x600 with 1 Axes>"
      ]
     },
     "metadata": {},
     "output_type": "display_data"
    }
   ],
   "source": [
    "# Calcular el promedio de mensajes enviados por plan y por mes\n",
    "avg_messages = messages_monthly.groupby(['plan', 'month'])['messages_sent'].mean().reset_index()\n",
    "\n",
    "# Renombrar la columna\n",
    "avg_messages.rename(columns={'messages_sent': 'avg_messages_sent'}, inplace=True)\n",
    "\n",
    "# Gráfico de barras\n",
    "import seaborn as sns\n",
    "import matplotlib.pyplot as plt\n",
    "\n",
    "plt.figure(figsize=(12, 6))\n",
    "sns.barplot(data=avg_messages, x='month', y='avg_messages_sent', hue='plan')\n",
    "plt.title('Promedio de mensajes enviados por plan y mes')\n",
    "plt.xlabel('Mes')\n",
    "plt.ylabel('Promedio de mensajes enviados')\n",
    "plt.legend(title='Plan')\n",
    "plt.xticks(ticks=range(0, 12), labels=[\n",
    "    'Ene', 'Feb', 'Mar', 'Abr', 'May', 'Jun',\n",
    "    'Jul', 'Ago', 'Sep', 'Oct', 'Nov', 'Dic'\n",
    "])\n",
    "plt.tight_layout()\n",
    "plt.show()\n"
   ]
  },
  {
   "cell_type": "code",
   "execution_count": 78,
   "metadata": {},
   "outputs": [
    {
     "data": {
      "image/png": "[encoded data removed]",
      "text/plain": [
       "<Figure size 1200x600 with 1 Axes>"
      ]
     },
     "metadata": {},
     "output_type": "display_data"
    }
   ],
   "source": [
    "import matplotlib.pyplot as plt\n",
    "import seaborn as sns\n",
    "\n",
    "# Filtrar los datos por plan\n",
    "surf_messages = messages_monthly[messages_monthly['plan'] == 'surf']['messages_sent']\n",
    "ultimate_messages = messages_monthly[messages_monthly['plan'] == 'ultimate']['messages_sent']\n",
    "\n",
    "# histograma\n",
    "plt.figure(figsize=(12, 6))\n",
    "sns.histplot(surf_messages, bins=30, color='skyblue', label='Surf', kde=True, stat=\"density\")\n",
    "sns.histplot(ultimate_messages, bins=30, color='salmon', label='Ultimate', kde=True, stat=\"density\")\n",
    "\n",
    "# Etiquetas y leyenda\n",
    "plt.title('Distribución de mensajes enviados por mes según el plan')\n",
    "plt.xlabel('Mensajes enviados al mes')\n",
    "plt.ylabel('Densidad')\n",
    "plt.legend(title='Plan')\n",
    "plt.tight_layout()\n",
    "plt.show()\n"
   ]
  },
  {
   "cell_type": "code",
   "execution_count": 79,
   "metadata": {},
   "outputs": [
    {
     "name": "stdout",
     "output_type": "stream",
     "text": [
      "       plan  mean_messages  var_messages\n",
      "0      surf      40.109656   1091.344231\n",
      "1  ultimate      46.296233   1085.183108\n"
     ]
    }
   ],
   "source": [
    "# Calcular la media y la varianza de los mensajes enviados por mes, por plan\n",
    "message_stats = messages_monthly.groupby('plan')['messages_sent'].agg(['mean', 'var']).reset_index()\n",
    "\n",
    "# Renombrar las columnas\n",
    "message_stats.columns = ['plan', 'mean_messages', 'var_messages']\n",
    "\n",
    "print(message_stats)"
   ]
  },
  {
   "cell_type": "code",
   "execution_count": 80,
   "metadata": {},
   "outputs": [
    {
     "data": {
      "image/png": "[encoded data removed]",
      "text/plain": [
       "<Figure size 1000x600 with 1 Axes>"
      ]
     },
     "metadata": {},
     "output_type": "display_data"
    }
   ],
   "source": [
    "import seaborn as sns\n",
    "import matplotlib.pyplot as plt\n",
    "\n",
    "# Ajustar el tamaño del gráfico\n",
    "plt.figure(figsize=(10, 6))\n",
    "\n",
    "# Crear el boxplot\n",
    "sns.boxplot(x='plan', y='messages_sent', data=messages_monthly)\n",
    "\n",
    "# Títulos y etiquetas\n",
    "plt.title('Distribución mensual de mensajes enviados por plan')\n",
    "plt.xlabel('Plan')\n",
    "plt.ylabel('Mensajes enviados al mes')\n",
    "\n",
    "plt.show()"
   ]
  },
  {
   "cell_type": "code",
   "execution_count": 81,
   "metadata": {},
   "outputs": [],
   "source": [
    "#Los usuarios del plan Ultimate tienden a enviar más mensajes mensualmente que los del plan Surf, tanto en promedio como en los valores máximos observados.\n",
    "#El diagrama de caja muestra que la distribución en el plan Ultimate es más amplia, con una mayor dispersión y presencia de valores atípicos, lo que sugiere que algunos \n",
    "#usuarios hacen un uso intensivo del servicio de mensajería.\n",
    "#Por el contrario, los usuarios del plan Surf tienen una distribución más concentrada, lo cual indica un uso más uniforme y moderado del servicio.\n",
    "#Esto podría implicar que los usuarios del plan Ultimate aprovechan mejor los beneficios del plan o pertenecen a un perfil de consumo más intensivo."
   ]
  },
  {
   "cell_type": "markdown",
   "metadata": {
    "id": "42YSypXz0q1M"
   },
   "source": [
    "### Internet"
   ]
  },
  {
   "cell_type": "code",
   "execution_count": 82,
   "metadata": {
    "id": "lSuKPtjh0q1M"
   },
   "outputs": [
    {
     "data": {
      "image/png": "[encoded data removed]",
      "text/plain": [
       "<Figure size 1200x600 with 1 Axes>"
      ]
     },
     "metadata": {},
     "output_type": "display_data"
    }
   ],
   "source": [
    "# Unir los datos de uso de internet con el tipo de plan\n",
    "internet['session_date'] = pd.to_datetime(internet['session_date'])\n",
    "# Extraer el mes\n",
    "internet['month'] = internet['session_date'].dt.month\n",
    "\n",
    "# Agrupar por usuario y mes para sumar los MB consumidos\n",
    "monthly_internet = internet.groupby(['user_id', 'month'])['mb_used'].sum().reset_index()\n",
    "monthly_internet.rename(columns={'mb_used': 'mb_used_total'}, inplace=True)\n",
    "\n",
    "# Unir con los planes de los usuarios\n",
    "user_monthly_internet = monthly_internet.merge(users[['user_id', 'plan']], on='user_id', how='left')\n",
    "\n",
    "# Calcular el promedio de MB usados por plan y por mes\n",
    "avg_mb_used = user_monthly_internet.groupby(['plan', 'month'])['mb_used_total'].mean().reset_index()\n",
    "avg_mb_used.rename(columns={'mb_used_total': 'avg_mb_used'}, inplace=True)\n",
    "\n",
    "import seaborn as sns\n",
    "import matplotlib.pyplot as plt\n",
    "\n",
    "plt.figure(figsize=(12, 6))\n",
    "sns.barplot(data=avg_mb_used, x='month', y='avg_mb_used', hue='plan')\n",
    "plt.title('Promedio mensual de MB usados por plan')\n",
    "plt.xlabel('Mes')\n",
    "plt.ylabel('Promedio de MB usados')\n",
    "plt.legend(title='Plan')\n",
    "plt.xticks(ticks=range(0, 12), labels=[\n",
    "    'Ene', 'Feb', 'Mar', 'Abr', 'May', 'Jun',\n",
    "    'Jul', 'Ago', 'Sep', 'Oct', 'Nov', 'Dic'\n",
    "])\n",
    "plt.tight_layout()\n",
    "plt.show()"
   ]
  },
  {
   "cell_type": "code",
   "execution_count": 83,
   "metadata": {
    "id": "wnh8jYXi0q1N"
   },
   "outputs": [
    {
     "name": "stdout",
     "output_type": "stream",
     "text": [
      "       plan       mean_mb        var_mb\n",
      "0      surf  16717.702137  6.216823e+07\n",
      "1  ultimate  17238.642253  6.132485e+07\n"
     ]
    }
   ],
   "source": [
    "# Mostrar estadísticas descriptivas del uso de MB por tipo de plan\n",
    "internet_stats = user_monthly_internet.groupby('plan')['mb_used_total'].agg(['mean', 'var']).reset_index()\n",
    "internet_stats.columns = ['plan', 'mean_mb', 'var_mb']\n",
    "print(internet_stats)"
   ]
  },
  {
   "cell_type": "code",
   "execution_count": 84,
   "metadata": {
    "id": "5VlyJ9ry0q1N"
   },
   "outputs": [
    {
     "data": {
      "image/png": "[encoded data removed]",
      "text/plain": [
       "<Figure size 1000x600 with 1 Axes>"
      ]
     },
     "metadata": {},
     "output_type": "display_data"
    }
   ],
   "source": [
    "plt.figure(figsize=(10, 6))\n",
    "sns.boxplot(x='plan', y='mb_used_total', data=user_monthly_internet)\n",
    "\n",
    "plt.title('Distribución mensual de MB usados por plan')\n",
    "plt.xlabel('Plan')\n",
    "plt.ylabel('MB usados al mes')\n",
    "plt.show()"
   ]
  },
  {
   "cell_type": "markdown",
   "metadata": {
    "id": "UN9zwuMP0q1N"
   },
   "source": [
    "[Elabora las conclusiones sobre cómo los usuarios tienden a consumir el tráfico de Internet. ¿Su comportamiento varía en función del plan?]\n",
    "Los usuarios de Megaline muestran diferencias claras en su comportamiento de consumo de tráfico de Internet dependiendo del plan al que están suscritos:\n",
    "Usuarios del plan Ultimate tienden a consumir más tráfico de Internet al mes en comparación con los del plan Surf. Esto se evidencia en:\n",
    "Una media de uso mensual mayor.\n",
    "Una distribución más amplia (mayor varianza), lo que indica que algunos usuarios consumen volúmenes de datos mucho más altos.\n",
    "Usuarios del plan Surf tienen un consumo mensual más contenido y consistente, probablemente influenciado por las limitaciones del plan, como una menor cantidad de datos incluidos o cargos adicionales por excedente.\n",
    "El boxplot y los histogramas muestran que los usuarios de Ultimate presentan más casos de consumo extremo (outliers), lo que sugiere que este plan es más atractivo para usuarios con necesidades más intensivas de navegación, como streaming o trabajo remoto."
   ]
  },
  {
   "cell_type": "markdown",
   "metadata": {
    "id": "tCijq3260q1N"
   },
   "source": [
    "## Ingreso"
   ]
  },
  {
   "cell_type": "markdown",
   "metadata": {
    "id": "9nq5IAcy0q1O"
   },
   "source": [
    "[Del mismo modo que has estudiado el comportamiento de los usuarios, describe estadísticamente los ingresos de los planes.]"
   ]
  },
  {
   "cell_type": "code",
   "execution_count": 86,
   "metadata": {},
   "outputs": [
    {
     "name": "stdout",
     "output_type": "stream",
     "text": [
      "--- Descripción Estadística del Ingreso Mensual por Tarifa ---\n",
      "\n",
      "Plan: ultimate\n",
      "  Métrica: Monthly Revenue\n",
      "    Media: 72.26\n",
      "    Varianza: 127.83\n",
      "    Desviación Estándar: 11.31\n",
      "\n",
      "Plan: surf\n",
      "  Métrica: Monthly Revenue\n",
      "    Media: 59.79\n",
      "    Varianza: 2855.22\n",
      "    Desviación Estándar: 53.43\n",
      "\n",
      "--- Resumen Detallado del Ingreso Mensual por Tarifa (usando .describe()) ---\n",
      "           count       mean        std   min   25%    50%   75%     max\n",
      "plan                                                                   \n",
      "surf      1558.0  59.790706  53.434271  20.0  20.0  40.12  80.0  590.37\n",
      "ultimate   719.0  72.258693  11.306313  70.0  70.0  70.00  70.0  182.00\n"
     ]
    },
    {
     "data": {
      "image/png": "[encoded data removed]",
      "text/plain": [
       "<Figure size 1000x600 with 1 Axes>"
      ]
     },
     "metadata": {},
     "output_type": "display_data"
    },
    {
     "data": {
      "image/png": "[encoded data removed]",
      "text/plain": [
       "<Figure size 800x600 with 1 Axes>"
      ]
     },
     "metadata": {},
     "output_type": "display_data"
    }
   ],
   "source": [
    "import pandas as pd\n",
    "import numpy as np\n",
    "import matplotlib.pyplot as plt\n",
    "import seaborn as sns\n",
    "from scipy import stats \n",
    "\n",
    "# Punto 2.14: Ingreso - Descripción estadística de los ingresos de los planes \n",
    "print(\"--- Descripción Estadística del Ingreso Mensual por Tarifa ---\")\n",
    "\n",
    "plans = data['plan'].unique()\n",
    "revenue_metric = 'monthly_revenue'\n",
    "\n",
    "for plan_name in plans:\n",
    "    print(f\"\\nPlan: {plan_name}\")\n",
    "    plan_revenue_data = data[data['plan'] == plan_name][revenue_metric]\n",
    "\n",
    "    print(f\"  Métrica: {revenue_metric.replace('_', ' ').title()}\")\n",
    "    print(f\"    Media: {plan_revenue_data.mean():.2f}\")\n",
    "    print(f\"    Varianza: {plan_revenue_data.var():.2f}\")\n",
    "    print(f\"    Desviación Estándar: {plan_revenue_data.std():.2f}\")\n",
    "\n",
    "print(\"\\n--- Resumen Detallado del Ingreso Mensual por Tarifa (usando .describe()) ---\")\n",
    "print(data.groupby('plan')[revenue_metric].describe())\n",
    "\n",
    "# Histograma del Ingreso Mensual por Plan\n",
    "plt.figure(figsize=(10, 6))\n",
    "sns.histplot(data=data, x=revenue_metric, hue='plan', bins=30, kde=True, palette='viridis')\n",
    "plt.title('Distribución del Ingreso Mensual por Plan', fontsize=16)\n",
    "plt.xlabel('Ingreso Mensual ($)', fontsize=12)\n",
    "plt.ylabel('Frecuencia', fontsize=12)\n",
    "# La línea plt.legend() se ha eliminado porque seaborn.histplot con 'hue' la maneja automáticamente\n",
    "plt.grid(True)\n",
    "plt.show()\n",
    "\n",
    "# Boxplot del Ingreso Mensual por Plan (dispersión y los valores atípicos)\n",
    "plt.figure(figsize=(8, 6))\n",
    "sns.boxplot(data=data, x='plan', y=revenue_metric, palette='viridis')\n",
    "plt.title('Boxplot del Ingreso Mensual por Plan', fontsize=16)\n",
    "plt.xlabel('Plan', fontsize=12)\n",
    "plt.ylabel('Ingreso Mensual ($)', fontsize=12)\n",
    "plt.grid(True)\n",
    "plt.show()"
   ]
  },
  {
   "cell_type": "markdown",
   "metadata": {
    "id": "KAFidcXZ0q1P"
   },
   "source": [
    "El plan Ultimate asegura un ingreso estable y alto por cliente. El plan Surf, aunque tiene una base más económica, genera ingresos adicionales variables a través de los cargos por excedentes, lo que puede hacerlo un contribuyente importante al ingreso total si muchos usuarios superan sus límites."
   ]
  },
  {
   "cell_type": "markdown",
   "metadata": {},
   "source": [
    "<div class=\"alert alert-block alert-success\">\n",
    "<b>Comentario del revisor (2da Iteración)</b> <a class=“tocSkip”></a>\n",
    "\n",
    "Excelente trabajo analizando adecuadamente los diferentes conjuntos de datos. Esto permite identificar patrones de comportamiento en los usuarios y extraer información valiosa para la compañía.\n",
    "\n",
    "</div>"
   ]
  },
  {
   "cell_type": "markdown",
   "metadata": {
    "id": "ajJ7VKeI0q1Q"
   },
   "source": [
    "## Prueba las hipótesis estadísticas"
   ]
  },
  {
   "cell_type": "markdown",
   "metadata": {
    "id": "AdXAZ-yL0q1Q"
   },
   "source": [
    "[Prueba la hipótesis de que son diferentes los ingresos promedio procedentes de los usuarios de los planes de llamada Ultimate y Surf.]"
   ]
  },
  {
   "cell_type": "markdown",
   "metadata": {
    "id": "IQwa_hsh0q1Q"
   },
   "source": [
    "[Elabora las hipótesis nula y alternativa, escoge la prueba estadística, determina el valor alfa.]"
   ]
  },
  {
   "cell_type": "code",
   "execution_count": 87,
   "metadata": {},
   "outputs": [
    {
     "name": "stdout",
     "output_type": "stream",
     "text": [
      "\n",
      "Media de ingresos para el plan Surf: $59.79\n",
      "Media de ingresos para el plan Ultimate: $72.26\n",
      "\n",
      "Estadístico t: 8.793\n",
      "Valor p: 0.000\n",
      "Nivel de significancia (alpha): 0.05\n",
      "\n",
      "Conclusión: Rechazamos la hipótesis nula.\n",
      "Hay evidencia estadística significativa para concluir que el ingreso promedio de los usuarios del plan Ultimate es DIFERENTE al ingreso promedio de los usuarios del plan Surf.\n",
      "\n",
      "--- Fin de la Prueba de Hipótesis ---\n"
     ]
    },
    {
     "data": {
      "image/png": "[encoded data removed]",
      "text/plain": [
       "<Figure size 800x600 with 1 Axes>"
      ]
     },
     "metadata": {},
     "output_type": "display_data"
    }
   ],
   "source": [
    "# 1. Formula las hipótesis:\n",
    "# H0 (Hipótesis Nula): Los ingresos promedio procedentes de los usuarios de los planes Ultimate y Surf son IGUALES.\n",
    "#                     μ_Ultimate = μ_Surf\n",
    "# H1 (Hipótesis Alternativa): Los ingresos promedio procedentes de los usuarios de los planes Ultimate y Surf son DIFERENTES.\n",
    "#                     μ_Ultimate ≠ μ_Surf (Prueba de dos colas)\n",
    "\n",
    "# 2. Nivel de significancia (alfa):\n",
    "alpha = 0.05 \n",
    "\n",
    "# 3. Ingresos mensuales para cada plan\n",
    "revenue_surf = data[data['plan'] == 'surf']['monthly_revenue']\n",
    "revenue_ultimate = data[data['plan'] == 'ultimate']['monthly_revenue']\n",
    "\n",
    "# Las medias \n",
    "print(f\"\\nMedia de ingresos para el plan Surf: ${revenue_surf.mean():.2f}\")\n",
    "print(f\"Media de ingresos para el plan Ultimate: ${revenue_ultimate.mean():.2f}\")\n",
    "\n",
    "# 4. Prueba t de Student para dos muestras independientes.\n",
    "t_statistic, p_value = stats.ttest_ind(revenue_ultimate, revenue_surf, equal_var=False)\n",
    "\n",
    "print(f\"\\nEstadístico t: {t_statistic:.3f}\")\n",
    "print(f\"Valor p: {p_value:.3f}\")\n",
    "print(f\"Nivel de significancia (alpha): {alpha}\")\n",
    "\n",
    "# 5. Conclusión:\n",
    "if p_value < alpha:\n",
    "    print(\"\\nConclusión: Rechazamos la hipótesis nula.\")\n",
    "    print(\"Hay evidencia estadística significativa para concluir que el ingreso promedio de los usuarios del plan Ultimate es DIFERENTE al ingreso promedio de los usuarios del plan Surf.\")\n",
    "else:\n",
    "    print(\"\\nConclusión: No podemos rechazar la hipótesis nula.\")\n",
    "    print(\"No hay evidencia estadística significativa para concluir que el ingreso promedio de los usuarios del plan Ultimate es diferente al ingreso promedio de los usuarios del plan Surf.\")\n",
    "\n",
    "print(\"\\n--- Fin de la Prueba de Hipótesis ---\")\n",
    "\n",
    "plt.figure(figsize=(8, 6))\n",
    "sns.boxplot(x='plan', y='monthly_revenue', data=data, palette={'surf': 'skyblue', 'ultimate': 'lightcoral'})\n",
    "plt.title('Ingreso Mensual por Plan')\n",
    "plt.xlabel('Plan')\n",
    "plt.ylabel('Ingreso Mensual ($)')\n",
    "plt.grid(True)\n",
    "plt.show()"
   ]
  },
  {
   "cell_type": "markdown",
   "metadata": {
    "id": "LsBgitqj0q1R"
   },
   "source": [
    "[Elabora las hipótesis nula y alternativa, escoge la prueba estadística, determina el valor alfa.]\n",
    "\n"
   ]
  },
  {
   "cell_type": "code",
   "execution_count": 91,
   "metadata": {},
   "outputs": [],
   "source": [
    "#Dado que el valor p obtenido de la prueba ([Valor_Obtenido_del_código]) es menor que nuestro \n",
    "#nivel de significancia alpha = 0.05:\n",
    "\n",
    "#Rechazamos la hipótesis nula \n",
    "#Esto significa que hay evidencia estadística significativa para afirmar que el ingreso promedio de los \n",
    "#usuarios del plan Ultimate es estadísticamente diferente del ingreso promedio de los usuarios del plan \n",
    "#Surf. Las diferencias observadas en las medias de ingresos entre ambos planes no son producto del azar,\n",
    "#sino que reflejan una distinción real en su contribución económica a la compañía."
   ]
  },
  {
   "cell_type": "code",
   "execution_count": null,
   "metadata": {},
   "outputs": [],
   "source": [
    "[Prueba la hipótesis de que el ingreso promedio de los usuarios del área NY-NJ es diferente al de los usuarios de otras regiones.]"
   ]
  },
  {
   "cell_type": "code",
   "execution_count": 92,
   "metadata": {},
   "outputs": [
    {
     "name": "stdout",
     "output_type": "stream",
     "text": [
      "\n",
      "Media de ingresos para usuarios de NY-NJ: $58.79\n",
      "Media de ingresos para usuarios de otras regiones: $64.69\n",
      "\n",
      "Estadístico t (región): -2.420\n",
      "Valor p (región): 0.016\n",
      "Nivel de significancia (alpha): 0.05\n",
      "\n",
      "Conclusión: Rechazamos la hipótesis nula.\n",
      "Hay evidencia estadística significativa para concluir que el ingreso promedio de los usuarios del área NY-NJ es DIFERENTE al ingreso promedio de los usuarios de otras regiones.\n",
      "\n",
      "--- Fin de la Prueba de Hipótesis ---\n"
     ]
    },
    {
     "data": {
      "image/png": "[encoded data removed]",
      "text/plain": [
       "<Figure size 800x600 with 1 Axes>"
      ]
     },
     "metadata": {},
     "output_type": "display_data"
    }
   ],
   "source": [
    "# 1. Formula las hipótesis:\n",
    "# H0 (Hipótesis Nula): El ingreso promedio de los usuarios del área NY-NJ es IGUAL al de otras regiones.\n",
    "#                     μ_NY-NJ = μ_OtrasRegiones\n",
    "# H1 (Hipótesis Alternativa): El ingreso promedio de los usuarios del área NY-NJ es DIFERENTE al de otras regiones.\n",
    "#                     μ_NY-NJ ≠ μ_OtrasRegiones (Prueba de dos colas)\n",
    "\n",
    "# 2. Define el nivel de significancia (alfa):\n",
    "alpha = 0.05 # Un valor común para el nivel de significancia\n",
    "\n",
    "# 3. ciudad específica del área NY-NJ\n",
    "ny_nj_city = \"New York-Newark-Jersey City, NY-NJ-PA MSA\"\n",
    "\n",
    "# Filtrado los ingresos para usuarios de NY-NJ\n",
    "revenue_ny_nj = data[data['city'] == ny_nj_city]['monthly_revenue']\n",
    "\n",
    "# Filtrado los ingresos para usuarios de otras regiones\n",
    "revenue_other_regions = data[data['city'] != ny_nj_city]['monthly_revenue']\n",
    "\n",
    "# Medias\n",
    "print(f\"\\nMedia de ingresos para usuarios de NY-NJ: ${revenue_ny_nj.mean():.2f}\")\n",
    "print(f\"Media de ingresos para usuarios de otras regiones: ${revenue_other_regions.mean():.2f}\")\n",
    "\n",
    "# 4.Prueba t de Student para dos muestras independientes.\n",
    "t_statistic_region, p_value_region = stats.ttest_ind(revenue_ny_nj, revenue_other_regions, equal_var=False)\n",
    "\n",
    "print(f\"\\nEstadístico t (región): {t_statistic_region:.3f}\")\n",
    "print(f\"Valor p (región): {p_value_region:.3f}\")\n",
    "print(f\"Nivel de significancia (alpha): {alpha}\")\n",
    "\n",
    "if p_value_region < alpha:\n",
    "    print(\"\\nConclusión: Rechazamos la hipótesis nula.\")\n",
    "    print(\"Hay evidencia estadística significativa para concluir que el ingreso promedio de los usuarios del área NY-NJ es DIFERENTE al ingreso promedio de los usuarios de otras regiones.\")\n",
    "else:\n",
    "    print(\"\\nConclusión: No podemos rechazar la hipótesis nula.\")\n",
    "    print(\"No hay evidencia estadística significativa para concluir que el ingreso promedio de los usuarios del área NY-NJ es diferente al ingreso promedio de los usuarios de otras regiones.\")\n",
    "\n",
    "print(\"\\n--- Fin de la Prueba de Hipótesis ---\")\n",
    "\n",
    "data['is_ny_nj'] = data['city'] == ny_nj_city\n",
    "\n",
    "plt.figure(figsize=(8, 6))\n",
    "sns.boxplot(x='is_ny_nj', y='monthly_revenue', data=data, palette='viridis')\n",
    "plt.title('Ingreso Mensual: NY-NJ vs. Otras Regiones')\n",
    "plt.xlabel('Región (False = Otras Regiones, True = NY-NJ)')\n",
    "plt.ylabel('Ingreso Mensual ($)')\n",
    "plt.xticks(ticks=[0, 1], labels=['Otras Regiones', 'NY-NJ'])\n",
    "plt.grid(True)\n",
    "plt.show()\n",
    "\n",
    "data.drop('is_ny_nj', axis=1, inplace=True)"
   ]
  },
  {
   "cell_type": "markdown",
   "metadata": {},
   "source": [
    "<div class=\"alert alert-block alert-success\">\n",
    "<b>Comentario del revisor (1ra Iteración)</b> <a class=“tocSkip”></a>\n",
    "\n",
    "Lina aplicaste correctamente las pruebas de hipótesis comparando la distribución de dos muestras independientes e interpretando de manera acertada el *p-value* obtenido y su relación con la hipótesis nula\n",
    "\n",
    "<div class=\"alert alert-block alert-warning\">\n",
    "<b>Comentario del revisor (1ra Iteración)</b> <a class=“tocSkip”></a>\n",
    "\n",
    "Te recomiendo realizar previamente una prueba de  [Levene](https://www.educaopen.com/digital-lab/blog/educacion-digital/prueba-de-levene) para evaluar la igualdad de las varianzas, lo que te permitirá configurar adecuadamente el parámetro **equal_var** en la función `ttest_ind`. Esto te brindará una interpretación más precisa de los resultados además garantizará que la prueba t sea estadísticamente válida.\n",
    "\n",
    "</div>\n",
    "</div>"
   ]
  },
  {
   "cell_type": "markdown",
   "metadata": {
    "id": "bbTR8UQO0q1T"
   },
   "source": [
    "## Conclusión general\n",
    "\n",
    "[En esta sección final, enumera tus conclusiones importantes. Asegúrate de que estas abarquen todas las decisiones (suposiciones) importantes que adoptaste y que determinaron la forma elegida para procesar y analizar los datos.]\n",
    " \n",
    "Durante este proyecto, realicé un análisis detallado de los ingresos mensuales por usuario en la empresa Megaline, con el objetivo de identificar si existen diferencias significativas en función del tipo de plan contratado y de la región donde residen los clientes. Para llegar a resultados confiables, tomé una serie de decisiones metodológicas que fueron clave para el análisis.\n",
    "\n",
    "1. Preparación y transformación de datos\n",
    "Para garantizar la calidad del análisis, partí de una limpieza exhaustiva de los datos: eliminé valores faltantes, duplicados y realicé las transformaciones necesarias para agrupar los datos por usuario y mes, lo que permitió un enfoque más granular y preciso.\n",
    "\n",
    "Calculé los ingresos reales mensuales por usuario, no solo considerando la tarifa mensual, sino también los cargos adicionales cuando se excedían los límites incluidos en el plan (llamadas, mensajes y tráfico de Internet). Esto permitió reflejar el comportamiento real de los clientes y su impacto económico para la empresa.\n",
    "\n",
    "2. Análisis del impacto del plan en los ingresos\n",
    "Comparé los ingresos entre los usuarios del plan Surf (más económico) y Ultimate (más completo) mediante una prueba t de Welch, dado que no se podía asumir varianzas iguales.\n",
    "\n",
    "El análisis reveló una diferencia estadísticamente significativa entre ambos planes: los usuarios del plan Ultimate, en promedio, generan mayores ingresos mensuales que los del plan Surf.\n",
    "\n",
    "Esto se debe a que, aunque el plan Surf es más barato, los usuarios tienden a superar los límites incluidos, generando cargos adicionales. Sin embargo, incluso con estos cargos, los ingresos no superan a los del plan Ultimate, lo que sugiere que este último es más rentable por su tarifa fija más alta.\n",
    "\n",
    "3. Diferencia en el Ingreso Promedio entre Planes (Prueba de Hipótesis 1):\n",
    "\n",
    "Hipótesis: El ingreso promedio de los usuarios del plan Ultimate es diferente al del plan Surf.\n",
    "\n",
    "Resultado: Se rechazó la hipótesis nula. Esto significa que hay evidencia estadística significativa para concluir que el ingreso promedio que Megaline recibe de los usuarios del plan Ultimate es diferente al que recibe de los usuarios del plan Surf. Como se observó en el análisis descriptivo, el Plan Ultimate genera un ingreso promedio por usuario más alto y estable ($70), mientras que el Plan Surf, aunque con una tarifa base de $20, genera un ingreso más variable y en promedio menor, debido a los cargos por excedentes.\n",
    "\n",
    "4. Diferencia en el Ingreso Promedio por Región (Prueba de Hipótesis 2):\n",
    "\n",
    "Hipótesis: El ingreso promedio de los usuarios del área NY-NJ es diferente al de los usuarios de otras regiones.\n",
    "\n",
    "Resultado: [Aquí debes copiar el resultado de tu prueba final: Rechazamos la hipótesis nula o No podemos rechazar la hipótesis nula, y la interpretación correspondiente. Por ejemplo:\n",
    "\n",
    "Si el p-value < 0.05 (Rechazas H0): Se rechazó la hipótesis nula. Esto indica que hay evidencia estadística significativa para concluir que el ingreso promedio de los usuarios del área NY-NJ es diferente al de los usuarios de otras regiones.\n",
    "\n",
    "Si el p-value >= 0.05 (No rechazas H0): No se pudo rechazar la hipótesis nula. Esto indica que no hay evidencia estadística significativa para concluir que el ingreso promedio de los usuarios del área NY-NJ sea diferente al de los usuarios de otras regiones. Cualquier diferencia observada podría deberse al azar.]\n",
    "\n",
    "Conclusion final:\n",
    "En base a este análisis, el Plan Ultimate, a pesar de tener un menor número de usuarios, genera un ingreso promedio por cliente más alto y consistentemente predecible para Megaline. Los usuarios de este plan rara vez incurren en costos adicionales, lo que simplifica la previsión de ingresos. Por otro lado, el Plan Surf, con su base de ingresos más baja, tiene el potencial de generar ingresos adicionales significativos a través de los cargos por exceso de uso, aunque esto introduce mayor variabilidad en los ingresos por usuario.\n",
    "\n",
    "Para Megaline, el plan Ultimate representa una fuente de ingresos estable y de alto valor por cliente. La decisión sobre qué plan es \"mejor\" o más rentable en general, dependerá no solo del ingreso promedio por usuario, sino también de la cantidad total de usuarios en cada plan y de la estrategia de crecimiento de la empresa. Si el objetivo es maximizar el ingreso total, ambos planes pueden ser importantes, atrayendo a diferentes segmentos de clientes con distintas necesidades y patrones de gasto."
   ]
  },
  {
   "cell_type": "markdown",
   "metadata": {},
   "source": [
    "<div class=\"alert alert-block alert-warning\">\n",
    "<b>Comentario del revisor (1ra Iteración)</b> <a class=“tocSkip”></a>\n",
    "\n",
    "Tu conclusión va alineada con la información que has obtenido en el proyecto. Aunque presentas una interpretación correcta, es importante revisar tu conclusión luego de hacer los ajustes que te mencioné más arriba, en en caso de que los valores hayan cambiado significativamente.\n",
    "\n",
    "</div>"
   ]
  }
 ],
 "metadata": {
  "ExecuteTimeLog": [
   {
    "duration": 828,
    "start_time": "2021-11-16T09:21:11.304Z"
   },
   {
    "duration": 893,
    "start_time": "2021-11-16T09:21:17.728Z"
   },
   {
    "duration": 1150,
    "start_time": "2021-11-16T09:21:29.568Z"
   },
   {
    "duration": 3,
    "start_time": "2021-11-16T09:24:14.495Z"
   },
   {
    "duration": 120,
    "start_time": "2021-11-16T09:24:46.630Z"
   },
   {
    "duration": 3,
    "start_time": "2021-11-16T09:28:27.882Z"
   },
   {
    "duration": 4,
    "start_time": "2021-11-16T09:29:54.281Z"
   },
   {
    "duration": 3,
    "start_time": "2021-11-16T09:30:45.936Z"
   },
   {
    "duration": 4,
    "start_time": "2021-11-16T09:31:06.300Z"
   },
   {
    "duration": 113,
    "start_time": "2021-11-16T09:31:37.208Z"
   },
   {
    "duration": 143,
    "start_time": "2021-11-16T09:31:48.656Z"
   },
   {
    "duration": 98,
    "start_time": "2021-11-16T09:31:55.678Z"
   },
   {
    "duration": 3,
    "start_time": "2021-11-16T09:32:08.535Z"
   },
   {
    "duration": 111,
    "start_time": "2021-11-16T09:32:10.120Z"
   },
   {
    "duration": 3,
    "start_time": "2021-11-16T09:32:15.732Z"
   },
   {
    "duration": 4,
    "start_time": "2021-11-16T09:32:29.423Z"
   },
   {
    "duration": 3,
    "start_time": "2021-11-16T10:03:03.074Z"
   },
   {
    "duration": 3,
    "start_time": "2021-11-16T10:10:01.288Z"
   },
   {
    "duration": 3,
    "start_time": "2021-11-16T10:10:46.923Z"
   },
   {
    "duration": 121,
    "start_time": "2021-11-16T10:37:46.494Z"
   },
   {
    "duration": 125,
    "start_time": "2021-11-16T10:38:20.632Z"
   },
   {
    "duration": 112,
    "start_time": "2021-11-16T10:46:53.001Z"
   },
   {
    "duration": 110,
    "start_time": "2021-11-16T10:48:25.775Z"
   },
   {
    "duration": 3,
    "start_time": "2021-11-16T10:50:18.720Z"
   },
   {
    "duration": 4,
    "start_time": "2021-11-16T10:50:37.649Z"
   },
   {
    "duration": 2,
    "start_time": "2021-11-16T10:50:51.884Z"
   },
   {
    "duration": 3,
    "start_time": "2021-11-16T10:51:56.237Z"
   },
   {
    "duration": 101,
    "start_time": "2021-11-16T10:53:13.791Z"
   },
   {
    "duration": 3,
    "start_time": "2021-11-16T10:55:59.186Z"
   },
   {
    "duration": 3,
    "start_time": "2021-11-16T10:56:10.751Z"
   },
   {
    "duration": 3,
    "start_time": "2021-11-16T10:56:49.038Z"
   },
   {
    "duration": 3,
    "start_time": "2021-11-16T10:56:49.174Z"
   },
   {
    "duration": 4,
    "start_time": "2021-11-16T10:56:49.414Z"
   },
   {
    "duration": 3,
    "start_time": "2021-11-16T10:56:49.680Z"
   },
   {
    "duration": 3,
    "start_time": "2021-11-16T10:56:50.370Z"
   },
   {
    "duration": 114,
    "start_time": "2021-11-16T10:59:34.518Z"
   },
   {
    "duration": 3,
    "start_time": "2021-11-16T11:01:41.201Z"
   },
   {
    "duration": 116,
    "start_time": "2021-11-16T11:01:48.754Z"
   },
   {
    "duration": 3,
    "start_time": "2021-11-16T11:02:16.685Z"
   },
   {
    "duration": 3,
    "start_time": "2021-11-16T11:02:19.479Z"
   },
   {
    "duration": 3,
    "start_time": "2021-11-16T11:02:47.067Z"
   },
   {
    "duration": 3,
    "start_time": "2021-11-16T11:02:49.353Z"
   },
   {
    "duration": 3,
    "start_time": "2021-11-16T11:03:07.835Z"
   },
   {
    "duration": 3,
    "start_time": "2021-11-16T11:03:07.953Z"
   },
   {
    "duration": 112,
    "start_time": "2021-11-16T11:07:52.072Z"
   },
   {
    "duration": 187,
    "start_time": "2021-11-16T11:09:23.468Z"
   },
   {
    "duration": 4,
    "start_time": "2021-11-16T11:10:01.455Z"
   },
   {
    "duration": 3,
    "start_time": "2021-11-16T11:10:05.069Z"
   },
   {
    "duration": 4,
    "start_time": "2021-11-16T11:10:13.376Z"
   },
   {
    "duration": 3,
    "start_time": "2021-11-16T11:10:14.434Z"
   },
   {
    "duration": 3,
    "start_time": "2021-11-16T11:10:22.853Z"
   },
   {
    "duration": 4,
    "start_time": "2021-11-16T11:27:29.279Z"
   },
   {
    "duration": 4,
    "start_time": "2021-11-16T11:29:08.919Z"
   },
   {
    "duration": 118,
    "start_time": "2021-11-16T11:29:46.703Z"
   },
   {
    "duration": 437,
    "start_time": "2021-11-16T11:36:02.181Z"
   },
   {
    "duration": 157,
    "start_time": "2021-11-16T11:36:14.388Z"
   },
   {
    "duration": 207,
    "start_time": "2021-11-16T11:47:15.898Z"
   },
   {
    "duration": 3,
    "start_time": "2021-11-16T11:53:52.092Z"
   },
   {
    "duration": 3,
    "start_time": "2021-11-16T11:53:52.236Z"
   },
   {
    "duration": 3,
    "start_time": "2021-11-16T11:59:12.005Z"
   },
   {
    "duration": 112,
    "start_time": "2021-11-16T12:00:33.446Z"
   },
   {
    "duration": 3,
    "start_time": "2021-11-16T12:02:14.453Z"
   },
   {
    "duration": 3,
    "start_time": "2021-11-16T12:02:39.512Z"
   },
   {
    "duration": 106,
    "start_time": "2021-11-16T12:03:03.460Z"
   },
   {
    "duration": 3,
    "start_time": "2021-11-17T20:37:21.139Z"
   },
   {
    "duration": 3,
    "start_time": "2021-11-17T20:37:22.229Z"
   },
   {
    "duration": 3,
    "start_time": "2021-11-17T20:38:38.806Z"
   },
   {
    "duration": 3,
    "start_time": "2021-11-17T20:38:41.958Z"
   },
   {
    "duration": 3,
    "start_time": "2021-11-17T20:43:46.551Z"
   },
   {
    "duration": 4,
    "start_time": "2021-11-17T20:58:21.835Z"
   },
   {
    "duration": 3,
    "start_time": "2021-11-17T20:59:21.872Z"
   },
   {
    "duration": 4,
    "start_time": "2021-11-17T20:59:45.352Z"
   },
   {
    "duration": 4,
    "start_time": "2021-11-17T20:59:49.646Z"
   },
   {
    "duration": 159,
    "start_time": "2021-11-17T21:02:26.949Z"
   },
   {
    "duration": 3,
    "start_time": "2021-11-17T21:03:53.461Z"
   },
   {
    "duration": 3,
    "start_time": "2021-11-17T21:03:53.694Z"
   },
   {
    "duration": 3,
    "start_time": "2021-11-17T21:05:28.145Z"
   },
   {
    "duration": 116,
    "start_time": "2021-11-17T21:05:57.787Z"
   },
   {
    "duration": 3,
    "start_time": "2021-11-17T21:06:37.993Z"
   },
   {
    "duration": 3,
    "start_time": "2021-11-17T21:06:38.261Z"
   },
   {
    "duration": 3,
    "start_time": "2021-11-17T21:11:54.358Z"
   },
   {
    "duration": 3,
    "start_time": "2021-11-17T21:12:43.846Z"
   },
   {
    "duration": 4,
    "start_time": "2021-11-17T21:13:08.773Z"
   },
   {
    "duration": 3,
    "start_time": "2021-11-17T21:14:44.441Z"
   },
   {
    "duration": 3,
    "start_time": "2021-11-17T21:15:42.059Z"
   },
   {
    "duration": 4,
    "start_time": "2021-11-17T21:15:51.995Z"
   },
   {
    "duration": 3,
    "start_time": "2021-11-17T21:15:53.923Z"
   },
   {
    "duration": 3,
    "start_time": "2021-11-17T21:15:55.282Z"
   },
   {
    "duration": 3,
    "start_time": "2021-11-17T21:16:28.492Z"
   },
   {
    "duration": 3,
    "start_time": "2021-11-17T21:16:32.603Z"
   },
   {
    "duration": 3,
    "start_time": "2021-11-17T21:17:06.941Z"
   },
   {
    "duration": 98,
    "start_time": "2021-11-17T21:18:05.733Z"
   },
   {
    "duration": 4,
    "start_time": "2021-11-17T21:21:35.255Z"
   },
   {
    "duration": 3,
    "start_time": "2021-11-17T21:21:37.804Z"
   },
   {
    "duration": 4,
    "start_time": "2021-11-17T21:23:06.071Z"
   },
   {
    "duration": 3,
    "start_time": "2021-11-17T21:23:24.799Z"
   },
   {
    "duration": 3,
    "start_time": "2021-11-17T21:23:32.591Z"
   },
   {
    "duration": 98,
    "start_time": "2021-11-17T21:28:31.559Z"
   },
   {
    "duration": 3,
    "start_time": "2021-11-17T21:28:45.448Z"
   },
   {
    "duration": 3,
    "start_time": "2021-11-17T21:29:17.303Z"
   },
   {
    "duration": 3,
    "start_time": "2021-11-17T21:29:29.617Z"
   },
   {
    "duration": 3,
    "start_time": "2021-11-17T21:29:32.681Z"
   },
   {
    "duration": 3,
    "start_time": "2021-11-17T21:36:11.474Z"
   },
   {
    "duration": 3,
    "start_time": "2021-11-17T21:36:14.791Z"
   },
   {
    "duration": 3,
    "start_time": "2021-11-17T21:36:53.943Z"
   },
   {
    "duration": 3,
    "start_time": "2021-11-17T21:36:56.165Z"
   },
   {
    "duration": 4,
    "start_time": "2021-11-17T21:37:16.590Z"
   },
   {
    "duration": 3,
    "start_time": "2021-11-17T21:37:22.702Z"
   },
   {
    "duration": 4,
    "start_time": "2021-11-17T21:38:03.479Z"
   },
   {
    "duration": 3,
    "start_time": "2021-11-17T21:38:08.601Z"
   },
   {
    "duration": 3,
    "start_time": "2021-11-17T21:38:12.928Z"
   },
   {
    "duration": 3,
    "start_time": "2021-11-17T21:38:48.896Z"
   },
   {
    "duration": 2,
    "start_time": "2021-11-17T21:38:49.171Z"
   },
   {
    "duration": 4,
    "start_time": "2021-11-17T21:39:57.889Z"
   },
   {
    "duration": 3,
    "start_time": "2021-11-17T21:39:58.057Z"
   },
   {
    "duration": 3,
    "start_time": "2021-11-17T21:41:20.108Z"
   },
   {
    "duration": 3,
    "start_time": "2021-11-17T21:41:20.629Z"
   },
   {
    "duration": 3,
    "start_time": "2021-11-17T21:42:49.136Z"
   },
   {
    "duration": 3,
    "start_time": "2021-11-17T21:43:15.137Z"
   },
   {
    "duration": 4,
    "start_time": "2021-11-17T21:43:16.766Z"
   },
   {
    "duration": 4,
    "start_time": "2021-11-17T21:43:31.711Z"
   },
   {
    "duration": 3,
    "start_time": "2021-11-17T21:43:36.312Z"
   },
   {
    "duration": 4,
    "start_time": "2021-11-17T21:45:08.825Z"
   },
   {
    "duration": 4,
    "start_time": "2021-11-17T21:45:10.119Z"
   },
   {
    "duration": 4,
    "start_time": "2021-11-17T21:45:13.748Z"
   },
   {
    "duration": 3,
    "start_time": "2021-11-17T21:45:22.219Z"
   },
   {
    "duration": 3,
    "start_time": "2021-11-17T21:45:33.412Z"
   },
   {
    "duration": 2,
    "start_time": "2021-11-17T21:46:01.885Z"
   },
   {
    "duration": 3,
    "start_time": "2021-11-17T21:46:03.628Z"
   },
   {
    "duration": 107,
    "start_time": "2021-11-17T21:47:32.512Z"
   },
   {
    "duration": 103,
    "start_time": "2021-11-17T21:50:36.243Z"
   },
   {
    "duration": 3,
    "start_time": "2021-11-18T06:28:31.440Z"
   },
   {
    "duration": 3,
    "start_time": "2021-11-18T06:29:00.168Z"
   },
   {
    "duration": 3,
    "start_time": "2021-11-18T06:31:27.008Z"
   },
   {
    "duration": 2,
    "start_time": "2021-11-18T06:35:34.288Z"
   },
   {
    "duration": 2,
    "start_time": "2021-11-18T06:38:04.527Z"
   }
  ],
  "colab": {
   "provenance": []
  },
  "kernelspec": {
   "display_name": "Python 3 (ipykernel)",
   "language": "python",
   "name": "python3"
  },
  "language_info": {
   "codemirror_mode": {
    "name": "ipython",
    "version": 3
   },
   "file_extension": ".py",
   "mimetype": "text/x-python",
   "name": "python",
   "nbconvert_exporter": "python",
   "pygments_lexer": "ipython3",
   "version": "3.9.23"
  },
  "toc": {
   "base_numbering": 1,
   "nav_menu": {},
   "number_sections": true,
   "sideBar": true,
   "skip_h1_title": false,
   "title_cell": "Table of Contents",
   "title_sidebar": "Contents",
   "toc_cell": false,
   "toc_position": {},
   "toc_section_display": true,
   "toc_window_display": true
  }
 },
 "nbformat": 4,
 "nbformat_minor": 4
}
